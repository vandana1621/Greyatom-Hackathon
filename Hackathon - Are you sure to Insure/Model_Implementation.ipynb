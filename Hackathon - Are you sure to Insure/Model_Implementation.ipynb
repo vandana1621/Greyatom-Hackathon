{
 "cells": [
  {
   "cell_type": "code",
   "execution_count": 183,
   "metadata": {},
   "outputs": [],
   "source": [
    "import warnings\n",
    "warnings.simplefilter('ignore')\n",
    "import pandas as pd\n",
    "import numpy as np\n",
    "import matplotlib.pyplot as plt\n",
    "import seaborn as sns\n",
    "from missingpy import KNNImputer\n",
    "import scipy.stats as ss\n",
    "from scipy.stats import chi2_contingency\n",
    "from sklearn.model_selection import train_test_split as tts,GridSearchCV,cross_val_score,StratifiedKFold\n",
    "from sklearn.linear_model import LogisticRegression,LogisticRegressionCV\n",
    "from sklearn.tree import DecisionTreeClassifier\n",
    "from sklearn.neighbors import KNeighborsClassifier\n",
    "from sklearn.preprocessing import LabelEncoder,MinMaxScaler,StandardScaler\n",
    "from imblearn.over_sampling import SMOTE\n",
    "from sklearn.feature_selection import RFE\n",
    "from xgboost import XGBClassifier\n",
    "from catboost import CatBoostClassifier\n",
    "from scipy.stats import chi2_contingency\n",
    "from sklearn.metrics import roc_curve\n",
    "from sklearn.metrics import accuracy_score,f1_score,classification_report,confusion_matrix,roc_auc_score,precision_score\n",
    "from sklearn.ensemble import RandomForestClassifier,AdaBoostClassifier,GradientBoostingClassifier"
   ]
  },
  {
   "cell_type": "code",
   "execution_count": 260,
   "metadata": {},
   "outputs": [],
   "source": [
    "#importing the train dataset\n",
    "train=pd.read_csv(\"C:\\\\Users\\\\Neel\\\\Desktop\\\\GreyAtom Hackathon\\\\train.csv\")\n",
    "train.head()\n",
    "copy_train=train.copy()"
   ]
  },
  {
   "cell_type": "code",
   "execution_count": 261,
   "metadata": {},
   "outputs": [
    {
     "data": {
      "text/plain": [
       "(50553, 12)"
      ]
     },
     "execution_count": 261,
     "metadata": {},
     "output_type": "execute_result"
    }
   ],
   "source": [
    "#Shape of the complete dataset\n",
    "train.shape"
   ]
  },
  {
   "cell_type": "code",
   "execution_count": 186,
   "metadata": {},
   "outputs": [
    {
     "data": {
      "text/plain": [
       "ID                        int64\n",
       "Agency                   object\n",
       "Agency Type              object\n",
       "Distribution Channel     object\n",
       "Product Name             object\n",
       "Claim                     int64\n",
       "Duration                  int64\n",
       "Destination              object\n",
       "Net Sales               float64\n",
       "Commision (in value)    float64\n",
       "Gender                   object\n",
       "Age                       int64\n",
       "dtype: object"
      ]
     },
     "execution_count": 186,
     "metadata": {},
     "output_type": "execute_result"
    }
   ],
   "source": [
    "#Datatypes of all columns in the dataset\n",
    "train.dtypes"
   ]
  },
  {
   "cell_type": "code",
   "execution_count": 187,
   "metadata": {},
   "outputs": [
    {
     "data": {
      "text/plain": [
       "ID                          0\n",
       "Agency                      0\n",
       "Agency Type                 0\n",
       "Distribution Channel        0\n",
       "Product Name                0\n",
       "Claim                       0\n",
       "Duration                    0\n",
       "Destination                 0\n",
       "Net Sales                   0\n",
       "Commision (in value)        0\n",
       "Gender                  35953\n",
       "Age                         0\n",
       "dtype: int64"
      ]
     },
     "execution_count": 187,
     "metadata": {},
     "output_type": "execute_result"
    }
   ],
   "source": [
    "#Checking for number of missing values in the dataset\n",
    "train.isnull().sum()"
   ]
  },
  {
   "cell_type": "code",
   "execution_count": 188,
   "metadata": {},
   "outputs": [
    {
     "data": {
      "text/plain": [
       "ID                       0.000000\n",
       "Agency                   0.000000\n",
       "Agency Type              0.000000\n",
       "Distribution Channel     0.000000\n",
       "Product Name             0.000000\n",
       "Claim                    0.000000\n",
       "Duration                 0.000000\n",
       "Destination              0.000000\n",
       "Net Sales                0.000000\n",
       "Commision (in value)     0.000000\n",
       "Gender                  71.119419\n",
       "Age                      0.000000\n",
       "dtype: float64"
      ]
     },
     "execution_count": 188,
     "metadata": {},
     "output_type": "execute_result"
    }
   ],
   "source": [
    "#Percentage of missing values in dataset\n",
    "train.isnull().sum()/train.shape[0]*100"
   ]
  },
  {
   "cell_type": "markdown",
   "metadata": {},
   "source": [
    "#### Gender column has about 71% of missing values. We have option to drop the column or else replace it with \"Not Present\""
   ]
  },
  {
   "cell_type": "code",
   "execution_count": 189,
   "metadata": {},
   "outputs": [],
   "source": [
    "#Replace missing Gender values with \"Not Present\"\n",
    "train['Gender']=train[\"Gender\"].fillna(\"Not Present\")"
   ]
  },
  {
   "cell_type": "code",
   "execution_count": 190,
   "metadata": {},
   "outputs": [],
   "source": [
    "#Seperate numerical and categorical columns\n",
    "numerical=train.select_dtypes(include=np.number)\n",
    "categorical=train.select_dtypes(exclude=np.number)"
   ]
  },
  {
   "cell_type": "code",
   "execution_count": 191,
   "metadata": {},
   "outputs": [
    {
     "data": {
      "text/html": [
       "<div>\n",
       "<style scoped>\n",
       "    .dataframe tbody tr th:only-of-type {\n",
       "        vertical-align: middle;\n",
       "    }\n",
       "\n",
       "    .dataframe tbody tr th {\n",
       "        vertical-align: top;\n",
       "    }\n",
       "\n",
       "    .dataframe thead th {\n",
       "        text-align: right;\n",
       "    }\n",
       "</style>\n",
       "<table border=\"1\" class=\"dataframe\">\n",
       "  <thead>\n",
       "    <tr style=\"text-align: right;\">\n",
       "      <th></th>\n",
       "      <th>ID</th>\n",
       "      <th>Claim</th>\n",
       "      <th>Duration</th>\n",
       "      <th>Net Sales</th>\n",
       "      <th>Commision (in value)</th>\n",
       "      <th>Age</th>\n",
       "    </tr>\n",
       "  </thead>\n",
       "  <tbody>\n",
       "    <tr>\n",
       "      <th>0</th>\n",
       "      <td>3433</td>\n",
       "      <td>0</td>\n",
       "      <td>7</td>\n",
       "      <td>0.0</td>\n",
       "      <td>17.82</td>\n",
       "      <td>31</td>\n",
       "    </tr>\n",
       "    <tr>\n",
       "      <th>1</th>\n",
       "      <td>4339</td>\n",
       "      <td>0</td>\n",
       "      <td>85</td>\n",
       "      <td>69.0</td>\n",
       "      <td>0.00</td>\n",
       "      <td>36</td>\n",
       "    </tr>\n",
       "    <tr>\n",
       "      <th>2</th>\n",
       "      <td>34590</td>\n",
       "      <td>0</td>\n",
       "      <td>11</td>\n",
       "      <td>19.8</td>\n",
       "      <td>11.88</td>\n",
       "      <td>75</td>\n",
       "    </tr>\n",
       "    <tr>\n",
       "      <th>3</th>\n",
       "      <td>55816</td>\n",
       "      <td>0</td>\n",
       "      <td>16</td>\n",
       "      <td>20.0</td>\n",
       "      <td>0.00</td>\n",
       "      <td>32</td>\n",
       "    </tr>\n",
       "    <tr>\n",
       "      <th>4</th>\n",
       "      <td>13816</td>\n",
       "      <td>0</td>\n",
       "      <td>10</td>\n",
       "      <td>15.0</td>\n",
       "      <td>0.00</td>\n",
       "      <td>29</td>\n",
       "    </tr>\n",
       "  </tbody>\n",
       "</table>\n",
       "</div>"
      ],
      "text/plain": [
       "      ID  Claim  Duration  Net Sales  Commision (in value)  Age\n",
       "0   3433      0         7        0.0                 17.82   31\n",
       "1   4339      0        85       69.0                  0.00   36\n",
       "2  34590      0        11       19.8                 11.88   75\n",
       "3  55816      0        16       20.0                  0.00   32\n",
       "4  13816      0        10       15.0                  0.00   29"
      ]
     },
     "execution_count": 191,
     "metadata": {},
     "output_type": "execute_result"
    }
   ],
   "source": [
    "#numerical part of dataset\n",
    "numerical.head()"
   ]
  },
  {
   "cell_type": "code",
   "execution_count": 192,
   "metadata": {},
   "outputs": [
    {
     "data": {
      "text/html": [
       "<div>\n",
       "<style scoped>\n",
       "    .dataframe tbody tr th:only-of-type {\n",
       "        vertical-align: middle;\n",
       "    }\n",
       "\n",
       "    .dataframe tbody tr th {\n",
       "        vertical-align: top;\n",
       "    }\n",
       "\n",
       "    .dataframe thead th {\n",
       "        text-align: right;\n",
       "    }\n",
       "</style>\n",
       "<table border=\"1\" class=\"dataframe\">\n",
       "  <thead>\n",
       "    <tr style=\"text-align: right;\">\n",
       "      <th></th>\n",
       "      <th>Agency</th>\n",
       "      <th>Agency Type</th>\n",
       "      <th>Distribution Channel</th>\n",
       "      <th>Product Name</th>\n",
       "      <th>Destination</th>\n",
       "      <th>Gender</th>\n",
       "    </tr>\n",
       "  </thead>\n",
       "  <tbody>\n",
       "    <tr>\n",
       "      <th>0</th>\n",
       "      <td>CWT</td>\n",
       "      <td>Travel Agency</td>\n",
       "      <td>Online</td>\n",
       "      <td>Rental Vehicle Excess Insurance</td>\n",
       "      <td>MALAYSIA</td>\n",
       "      <td>Not Present</td>\n",
       "    </tr>\n",
       "    <tr>\n",
       "      <th>1</th>\n",
       "      <td>EPX</td>\n",
       "      <td>Travel Agency</td>\n",
       "      <td>Online</td>\n",
       "      <td>Cancellation Plan</td>\n",
       "      <td>SINGAPORE</td>\n",
       "      <td>Not Present</td>\n",
       "    </tr>\n",
       "    <tr>\n",
       "      <th>2</th>\n",
       "      <td>CWT</td>\n",
       "      <td>Travel Agency</td>\n",
       "      <td>Online</td>\n",
       "      <td>Rental Vehicle Excess Insurance</td>\n",
       "      <td>MALAYSIA</td>\n",
       "      <td>Not Present</td>\n",
       "    </tr>\n",
       "    <tr>\n",
       "      <th>3</th>\n",
       "      <td>EPX</td>\n",
       "      <td>Travel Agency</td>\n",
       "      <td>Online</td>\n",
       "      <td>2 way Comprehensive Plan</td>\n",
       "      <td>INDONESIA</td>\n",
       "      <td>Not Present</td>\n",
       "    </tr>\n",
       "    <tr>\n",
       "      <th>4</th>\n",
       "      <td>EPX</td>\n",
       "      <td>Travel Agency</td>\n",
       "      <td>Online</td>\n",
       "      <td>Cancellation Plan</td>\n",
       "      <td>KOREA, REPUBLIC OF</td>\n",
       "      <td>Not Present</td>\n",
       "    </tr>\n",
       "  </tbody>\n",
       "</table>\n",
       "</div>"
      ],
      "text/plain": [
       "  Agency    Agency Type Distribution Channel                     Product Name  \\\n",
       "0    CWT  Travel Agency               Online  Rental Vehicle Excess Insurance   \n",
       "1    EPX  Travel Agency               Online                Cancellation Plan   \n",
       "2    CWT  Travel Agency               Online  Rental Vehicle Excess Insurance   \n",
       "3    EPX  Travel Agency               Online         2 way Comprehensive Plan   \n",
       "4    EPX  Travel Agency               Online                Cancellation Plan   \n",
       "\n",
       "          Destination       Gender  \n",
       "0            MALAYSIA  Not Present  \n",
       "1           SINGAPORE  Not Present  \n",
       "2            MALAYSIA  Not Present  \n",
       "3           INDONESIA  Not Present  \n",
       "4  KOREA, REPUBLIC OF  Not Present  "
      ]
     },
     "execution_count": 192,
     "metadata": {},
     "output_type": "execute_result"
    }
   ],
   "source": [
    "#categorical part of Dataset\n",
    "categorical.head()"
   ]
  },
  {
   "cell_type": "markdown",
   "metadata": {},
   "source": [
    "#### \"Claim\" as such is a categorical column, so just add \"Claim\" column into categorical part of the dataset"
   ]
  },
  {
   "cell_type": "code",
   "execution_count": 193,
   "metadata": {},
   "outputs": [],
   "source": [
    "#concatenating \"Claim\" into categorical column of the dataset\n",
    "categorical=pd.concat([categorical,numerical[\"Claim\"]],1)"
   ]
  },
  {
   "cell_type": "code",
   "execution_count": 194,
   "metadata": {},
   "outputs": [
    {
     "data": {
      "text/html": [
       "<div>\n",
       "<style scoped>\n",
       "    .dataframe tbody tr th:only-of-type {\n",
       "        vertical-align: middle;\n",
       "    }\n",
       "\n",
       "    .dataframe tbody tr th {\n",
       "        vertical-align: top;\n",
       "    }\n",
       "\n",
       "    .dataframe thead th {\n",
       "        text-align: right;\n",
       "    }\n",
       "</style>\n",
       "<table border=\"1\" class=\"dataframe\">\n",
       "  <thead>\n",
       "    <tr style=\"text-align: right;\">\n",
       "      <th></th>\n",
       "      <th>Agency</th>\n",
       "      <th>Agency Type</th>\n",
       "      <th>Distribution Channel</th>\n",
       "      <th>Product Name</th>\n",
       "      <th>Destination</th>\n",
       "      <th>Gender</th>\n",
       "      <th>Claim</th>\n",
       "    </tr>\n",
       "  </thead>\n",
       "  <tbody>\n",
       "    <tr>\n",
       "      <th>0</th>\n",
       "      <td>CWT</td>\n",
       "      <td>Travel Agency</td>\n",
       "      <td>Online</td>\n",
       "      <td>Rental Vehicle Excess Insurance</td>\n",
       "      <td>MALAYSIA</td>\n",
       "      <td>Not Present</td>\n",
       "      <td>0</td>\n",
       "    </tr>\n",
       "    <tr>\n",
       "      <th>1</th>\n",
       "      <td>EPX</td>\n",
       "      <td>Travel Agency</td>\n",
       "      <td>Online</td>\n",
       "      <td>Cancellation Plan</td>\n",
       "      <td>SINGAPORE</td>\n",
       "      <td>Not Present</td>\n",
       "      <td>0</td>\n",
       "    </tr>\n",
       "    <tr>\n",
       "      <th>2</th>\n",
       "      <td>CWT</td>\n",
       "      <td>Travel Agency</td>\n",
       "      <td>Online</td>\n",
       "      <td>Rental Vehicle Excess Insurance</td>\n",
       "      <td>MALAYSIA</td>\n",
       "      <td>Not Present</td>\n",
       "      <td>0</td>\n",
       "    </tr>\n",
       "    <tr>\n",
       "      <th>3</th>\n",
       "      <td>EPX</td>\n",
       "      <td>Travel Agency</td>\n",
       "      <td>Online</td>\n",
       "      <td>2 way Comprehensive Plan</td>\n",
       "      <td>INDONESIA</td>\n",
       "      <td>Not Present</td>\n",
       "      <td>0</td>\n",
       "    </tr>\n",
       "    <tr>\n",
       "      <th>4</th>\n",
       "      <td>EPX</td>\n",
       "      <td>Travel Agency</td>\n",
       "      <td>Online</td>\n",
       "      <td>Cancellation Plan</td>\n",
       "      <td>KOREA, REPUBLIC OF</td>\n",
       "      <td>Not Present</td>\n",
       "      <td>0</td>\n",
       "    </tr>\n",
       "  </tbody>\n",
       "</table>\n",
       "</div>"
      ],
      "text/plain": [
       "  Agency    Agency Type Distribution Channel                     Product Name  \\\n",
       "0    CWT  Travel Agency               Online  Rental Vehicle Excess Insurance   \n",
       "1    EPX  Travel Agency               Online                Cancellation Plan   \n",
       "2    CWT  Travel Agency               Online  Rental Vehicle Excess Insurance   \n",
       "3    EPX  Travel Agency               Online         2 way Comprehensive Plan   \n",
       "4    EPX  Travel Agency               Online                Cancellation Plan   \n",
       "\n",
       "          Destination       Gender  Claim  \n",
       "0            MALAYSIA  Not Present      0  \n",
       "1           SINGAPORE  Not Present      0  \n",
       "2            MALAYSIA  Not Present      0  \n",
       "3           INDONESIA  Not Present      0  \n",
       "4  KOREA, REPUBLIC OF  Not Present      0  "
      ]
     },
     "execution_count": 194,
     "metadata": {},
     "output_type": "execute_result"
    }
   ],
   "source": [
    "#new categorcical part of dataset after adding Claim column to it \n",
    "categorical.head()"
   ]
  },
  {
   "cell_type": "markdown",
   "metadata": {},
   "source": [
    "#### Logically we can remove \"ID\" column from the dataset as \"ID\" of an indivisual should not decide whether he/she should be getting the Insurance Claim or not"
   ]
  },
  {
   "cell_type": "code",
   "execution_count": 195,
   "metadata": {},
   "outputs": [],
   "source": [
    "#Dropping \"ID\" column from the dataset and also from numerical part of Dataset\n",
    "train=train.drop([\"ID\"],1)\n",
    "numerical=numerical.drop([\"ID\"],1)"
   ]
  },
  {
   "cell_type": "code",
   "execution_count": 196,
   "metadata": {},
   "outputs": [
    {
     "name": "stdout",
     "output_type": "stream",
     "text": [
      "Claim [0 1]\n",
      "Duration [   7   85   11   16   10   64   23   31    5  100   71   18   15   20\n",
      "   27  162  240  140    8   36    3   14   50   41   72   26   19    6\n",
      "    1   81  133    2   21   12   30   56  132   55   28   61   69    4\n",
      "   35  386   47   32  102   37   34   40   57   46   58  147   17   70\n",
      "  375  186   13   76   62  431  138  127   74   52   45  192   22  109\n",
      "   29  129  219   80  137   24  198  126  264    9   91    0  307  135\n",
      "   38  166  403   66  365   63  180   87  174   68  125   94   92   43\n",
      "  115  391   77   84   33   65   79   48   73   42   25  101  104  123\n",
      "  373  366   95  106   78  151   75   83  112  364   39  208   97  371\n",
      "   67   59  261  148  367   44   88  167   89  121  182   53  243  110\n",
      "  369   54  202  122  142  163  124  268  150  170  117   49  372   86\n",
      "  390  224  381   99   93  141  374  204  155   60  508   90  387  168\n",
      "  217  252  159  160  116  236  205  247  114  183  370   51  176  190\n",
      "   96   82  119  228  392  156  143  144  378  145  545  153  257  113\n",
      "  189  200  253  191  214  107  108  368  131  377  128  275  199  397\n",
      "  395  310  379  318  380  179  154  118  231  385  105  120  270  399\n",
      "  149  284  384  300  169  146  197  103  255  218  376  196  238  383\n",
      "  244  230  165  161  187  394  181  130  389  188  410  426  111  227\n",
      "  478  195  211  152   98  461  287  164  388  134  427  269  303  249\n",
      "  309  194  233  215   -1  203  157  136  173  305  317  398  178  193\n",
      "  223  416  289  158  382  177  325  490  235  277  428  322  226  411\n",
      "  445  294  206  419  319  222  172  267  175  302  263  297  274  436\n",
      "  400  420  402  547  185  237  245  448  225  417  435  291  418  279\n",
      "  306  248  312  246  472  278  216  272  242  221  456  207  184  296\n",
      "  531  254  241  406  271  260  326  440  220  404  432  330  229  273\n",
      "  286  450  487  234  299  232  251  171 4609  425  285  210  276  421\n",
      "  463  256  209  314  281  139  298  327  401  414 4580  393  412  288\n",
      "  408  396 4685  213  430  311 4736  323  266  351  258  265  304  280\n",
      "  212  352  250  529  444 4844  292  259  201  283  239  334  321  405\n",
      "  433  512 4857  413 4815  424  474  494  350  315 4652  488 4829  282\n",
      "  740  262  293  332  329  316  328  465  342  519  331  290  407  423\n",
      "  457 4738  409 4881  459  295   -2  415  324  434]\n",
      "Net Sales [  0.    69.    19.8  ... 145.    42.4   12.58]\n",
      "Commision (in value) [1.7820e+01 0.0000e+00 1.1880e+01 2.9700e+01 2.4150e+01 9.1000e+00\n",
      " 4.5000e+00 2.3760e+01 1.9600e+00 9.5700e+00 6.3000e+00 1.5500e+01\n",
      " 4.0000e+00 7.3800e+00 7.7000e+00 4.3100e+00 1.4440e+01 3.1000e-01\n",
      " 4.7520e+01 6.0000e+00 4.1580e+01 1.2950e+01 8.1300e+00 2.7360e+01\n",
      " 5.4000e+01 3.7400e+00 8.3800e+00 2.5600e+00 9.7500e+00 4.6300e+00\n",
      " 1.3650e+01 3.1200e+01 1.5000e+01 9.7340e+01 1.2400e+01 6.8080e+01\n",
      " 2.8130e+01 6.7500e+00 1.4700e+01 3.2180e+01 1.1020e+01 3.5640e+01\n",
      " 1.0500e+01 4.8800e+00 1.5600e+01 5.6300e+00 1.8000e+01 2.5510e+01\n",
      " 5.9400e+00 5.5300e+00 5.8450e+01 6.4380e+01 3.8000e-01 1.6250e+01\n",
      " 6.5340e+01 1.2090e+01 4.0250e+01 1.4000e+01 1.3380e+01 1.6653e+02\n",
      " 2.7300e+01 4.5500e+01 1.2250e+01 6.3210e+01 5.0000e+00 5.8800e+00\n",
      " 1.1700e+01 1.8600e+00 5.9400e+01 1.8200e+01 9.2000e+00 1.7750e+01\n",
      " 1.8600e+01 5.3460e+01 3.7500e+00 1.7710e+01 4.8300e+01 1.7150e+01\n",
      " 1.0000e+01 3.3800e+00 1.3250e+01 3.0450e+01 8.1000e+00 1.3100e+00\n",
      " 1.5750e+01 7.7000e-01 8.8800e+00 3.6000e-01 1.1250e+01 1.2000e+01\n",
      " 3.6100e+01 2.6400e+01 2.0300e+01 6.4800e+01 2.8000e+01 5.8500e+00\n",
      " 4.3900e+00 1.8850e+01 5.1450e+01 2.2050e+01 1.4790e+01 5.2500e+00\n",
      " 8.6300e+00 2.2000e+01 1.7390e+01 1.0640e+01 7.1280e+01 5.9000e+01\n",
      " 8.3600e+00 6.8800e+00 1.2600e+01 1.0250e+01 2.0640e+01 2.1350e+01\n",
      " 4.2500e+00 6.1300e+00 1.5450e+02 4.9600e+01 3.2800e+00 2.2000e-01\n",
      " 1.5560e+01 1.2750e+01 1.1750e+01 7.4000e-01 1.0920e+02 2.4800e+01\n",
      " 7.3500e+00 3.6000e+01 7.6400e+00 2.4000e+01 5.2330e+01 1.6800e+01\n",
      " 1.2380e+01 1.2500e+01 4.6960e+01 1.0150e+01 1.4937e+02 1.4160e+01\n",
      " 3.9000e+00 1.8620e+01 1.1550e+01 1.7850e+01 4.3550e+01 5.2000e+00\n",
      " 2.0850e+01 1.7380e+01 1.3500e+01 3.6100e+00 1.9500e+01 2.0000e+01\n",
      " 1.4100e+01 3.4250e+01 2.9050e+01 2.1130e+01 2.4100e+00 6.9000e-01\n",
      " 2.0380e+01 3.4100e+00 8.3160e+01 2.8500e+01 3.3950e+01 1.6750e+01\n",
      " 1.3160e+01 1.2540e+01 4.1270e+01 8.9100e+01 1.0725e+02 1.6450e+01\n",
      " 6.6600e+00 1.2130e+01 2.2250e+01 5.1000e-01 5.0600e+00 2.7400e+00\n",
      " 3.7200e+01 5.7500e+00 1.7500e+01 2.7600e+00 3.8350e+01 4.8420e+01\n",
      " 6.0100e+00 2.2230e+01 2.8690e+01 8.3250e+01 4.0000e+01 2.9750e+01\n",
      " 3.8150e+01 3.2680e+01 2.7500e+01 6.5600e+00 1.3068e+02 1.0050e+01\n",
      " 2.8100e+00 2.0150e+01 2.5000e-01 3.2300e+00 5.6000e-01 8.8100e+00\n",
      " 2.8600e+01 9.5900e+00 2.0200e+00 9.5040e+01 4.3750e+01 4.4000e+00\n",
      " 7.7220e+01 1.1540e+01 6.6300e+00 8.7700e+00 2.3600e+01 2.2130e+01\n",
      " 6.0000e+01 1.1500e+01 4.2180e+01 4.9400e+01 1.6950e+01 1.3200e+01\n",
      " 3.2100e+00 1.0900e+00 2.3750e+01 1.3630e+01 2.7500e+00 2.9500e+01\n",
      " 4.1420e+01 7.2940e+01 3.7000e-01 2.0800e+02 1.3450e+02 6.3800e+00\n",
      " 3.9000e+01 1.4130e+01 1.5400e+01 1.8000e+00 5.7400e+01 1.3662e+02\n",
      " 2.6550e+01 3.5630e+01 4.2350e+01 1.1600e+00 3.3300e+00 7.1600e+00\n",
      " 3.3600e+01 2.0960e+01 9.4000e-01 1.6000e-01 8.9000e+00 5.4190e+01\n",
      " 8.5000e+00 5.9300e+00 7.1300e+00 2.0000e-01 1.8380e+01 5.0490e+01\n",
      " 1.4300e+00 1.0098e+02 3.1530e+01 2.1850e+01 1.7230e+01 7.1250e+01\n",
      " 2.8250e+01 7.5250e+01 1.5000e-01 1.6410e+01 7.4700e+00 1.2140e+01\n",
      " 5.9880e+01 3.2830e+01 2.5680e+01 2.2360e+01 1.1380e+01 2.1021e+02\n",
      " 1.8400e+00 8.5600e+00 1.6650e+02 2.4600e+00 8.8000e-01 1.1860e+01\n",
      " 3.0250e+01 1.7250e+01 1.2630e+01 7.2500e+00 4.8000e+00 2.1600e+01\n",
      " 3.1540e+01 1.5380e+01 3.4600e+00 1.0890e+01 1.4950e+02 2.8800e+00\n",
      " 8.2200e+00 1.3299e+02 3.4130e+01 1.0130e+01 6.5160e+01 2.0300e+00\n",
      " 1.4250e+01 3.2500e+01 2.9500e+00 4.0750e+01 7.9600e+00 4.0500e+00\n",
      " 5.0000e-01 2.0800e+01 1.5100e+00 1.9140e+01 2.0650e+01 1.4975e+02\n",
      " 1.3310e+01 1.1800e+00 7.9100e+00 2.0060e+01 2.9200e+00 9.0000e-01\n",
      " 1.5880e+01 1.2050e+02 2.6000e+01 5.5860e+01 4.0950e+01 1.0822e+02\n",
      " 1.6090e+01 1.0380e+01 6.2500e+00 2.0000e+00 5.9100e+00 9.9000e-01\n",
      " 3.8020e+01 1.9600e+01 2.6000e-01 2.2100e+01 1.0800e+02 1.7550e+01\n",
      " 1.6350e+01 6.9710e+01 1.7630e+01 1.4880e+01 1.6900e+01 1.9070e+01\n",
      " 2.0000e-02 1.1200e+00 2.6750e+01 4.2800e+00 1.0800e+00 1.4750e+01\n",
      " 2.9000e+00 9.9900e+01 3.0200e+00 2.3450e+01 7.1830e+01 7.0200e+01\n",
      " 7.9500e+00 2.3500e+01 6.0040e+01 3.1500e+00 6.8000e-01 7.5000e+00\n",
      " 4.2000e+00 9.6000e-01 2.2910e+01 4.6250e+01 1.1210e+01 8.1200e+01\n",
      " 4.5000e-01 3.1690e+01 2.9130e+01 1.3000e+00 2.2040e+01 1.3700e+00\n",
      " 1.7540e+01 7.7600e+00 7.0250e+01 1.4850e+02 2.2000e+00 4.7200e+00\n",
      " 7.2800e+01 1.2940e+01 1.0255e+02 9.3600e+01 6.9400e+00 1.0692e+02\n",
      " 2.6276e+02 3.1000e+01 1.9250e+01 5.1750e+01 1.2474e+02 1.2400e+00\n",
      " 3.1380e+01 2.0995e+02 2.3000e-01 6.9600e+00 7.1850e+01 2.1450e+01\n",
      " 1.2450e+01 6.9300e+01 3.1000e+00 2.8850e+01 2.7250e+01 1.7820e+02\n",
      " 5.5500e+00 7.8900e+00 1.6300e+00 2.3730e+01 2.0280e+01 1.3950e+01\n",
      " 2.1500e+00 1.5190e+01 4.4840e+01 3.1880e+01 1.4630e+01 2.0250e+01\n",
      " 2.2750e+01 5.2600e+00 3.4380e+01 8.0500e+01 2.2400e+00 1.1060e+01\n",
      " 1.3490e+01 9.2500e+00 2.1700e+00 2.3630e+01 1.4550e+01 1.7050e+02\n",
      " 9.9700e+00 8.2500e+00 1.1880e+02 1.1286e+02 3.6400e+01 9.7250e+01\n",
      " 8.6000e-01 2.3180e+01 2.4380e+01 1.4460e+01 1.1900e+01 3.8000e+01\n",
      " 8.2100e+00 1.1425e+02 1.8240e+01 1.4380e+01 1.2288e+02 9.0000e+00\n",
      " 1.7130e+01 1.0100e+00 2.5130e+01 4.8590e+01 1.1000e+00 5.1300e+00\n",
      " 5.4000e-01 1.4800e+00 5.9000e-01 1.5440e+01 5.0000e-02 9.6000e+01\n",
      " 6.2650e+01 3.9250e+01 1.6160e+01 1.5930e+01 6.8400e+00 4.9400e+00\n",
      " 2.7000e-01 8.5130e+01 1.2875e+02 5.9150e+01 4.0200e+00 8.7600e+00\n",
      " 2.6400e+00 2.4000e-01 2.3400e+01 2.6500e+01 1.3406e+02 2.2200e+00\n",
      " 1.6600e+00 6.6250e+01 3.8000e+00 1.7500e+00 6.4700e+00 2.8760e+01\n",
      " 2.9600e+00 2.7190e+01 6.3200e+00 9.3000e+00 2.1600e+00 1.5400e+00\n",
      " 2.0880e+01 6.3000e-01 2.3060e+01 8.0500e+00 9.7000e-01 3.6800e+00\n",
      " 1.1800e+02 7.2000e+01 2.0130e+01 5.9800e+00 8.8500e+00 4.9100e+00\n",
      " 3.2000e-01 1.2300e+00 1.5280e+01 1.2500e+00 2.6260e+02 1.8671e+02\n",
      " 2.7300e+00 3.2200e+01 9.2600e+00 4.3250e+01 1.3000e-01 9.5000e-01\n",
      " 2.5620e+01 5.6000e+00 1.1720e+01 2.0600e+00 3.1750e+01 2.1630e+01\n",
      " 6.4050e+01 1.3200e+00 1.2560e+01 2.2960e+01 2.4500e+01 4.1800e+00\n",
      " 3.9330e+01 2.0700e+01 6.2000e+00 1.6000e+00 4.5400e+00 2.0480e+01\n",
      " 4.8000e+01 1.6800e+00 5.0700e+01 4.4690e+01 8.9380e+01 1.2300e+01\n",
      " 7.5000e-01 5.1200e+00 1.9630e+01 7.0000e-01 2.4500e+00 2.6980e+01\n",
      " 6.6000e-01 8.7000e+00 2.2470e+01 9.1900e+00 8.0000e+00 2.3290e+01\n",
      " 9.0000e-02 7.5600e+01 1.6500e+01 7.8280e+01 7.4100e+01 1.1700e+00\n",
      " 3.5200e+00 4.0300e+00 3.9400e+00 1.2775e+02 1.8800e+00 6.9900e+00\n",
      " 2.5840e+01 1.0200e+00 2.5550e+01 1.1130e+01 3.6000e+00 2.4450e+01\n",
      " 1.2900e+00 2.4860e+01 2.5200e+01 2.1500e+01 1.1110e+01 3.8500e+01\n",
      " 1.9350e+01 3.3900e+00 4.9650e+01 5.7130e+01 3.5000e+01 5.2150e+01\n",
      " 1.2200e+00 1.9340e+01 3.0100e+00 2.0750e+01 1.0300e+00 1.0630e+01\n",
      " 3.7700e+00 1.3690e+01 8.2360e+01 4.8630e+01 3.5500e+00 1.6640e+02\n",
      " 9.5500e+01 3.7130e+01 1.2100e+00 5.6250e+01 3.0550e+01 1.8560e+01\n",
      " 4.7880e+01 6.3350e+01 1.9010e+01 2.9000e-01 1.1340e+01 4.3800e+00\n",
      " 4.6800e+01 2.0690e+01 1.8730e+01 6.3750e+01 1.6038e+02 2.6200e+00\n",
      " 1.8800e+01 3.8250e+01 4.6400e+00 3.1400e+00 2.0440e+01 5.7900e+00\n",
      " 4.4200e+00 6.5000e-01 8.0000e+01 2.8950e+01 1.9700e+00 1.9130e+01\n",
      " 1.2070e+01 1.6400e+00 4.1000e-01 1.0600e+00 7.1000e-01 7.8000e+01\n",
      " 1.7300e+00 1.7226e+02 3.6560e+01 1.3300e+00 2.8800e+01 1.7290e+01\n",
      " 1.8130e+01 9.3800e+00 3.4500e+00 8.7500e+00 1.4500e+01 1.6900e+00\n",
      " 8.2600e+01 4.7290e+01 1.6570e+01 3.3130e+01 2.3800e+00 3.9200e+00\n",
      " 1.5960e+01 2.9570e+01 3.0000e+01 3.4000e-01 2.2300e+00 5.5480e+01\n",
      " 3.5590e+01 1.4000e-01 2.5880e+01 1.1231e+02 1.3920e+01 1.3570e+01\n",
      " 1.5900e+01 1.2600e+00 3.0500e+00 8.4900e+00 8.4130e+01 5.4500e+01\n",
      " 4.6400e+01 6.9250e+01 7.6900e+00 1.9900e+00 1.6632e+02 1.0220e+01\n",
      " 1.5300e+00 8.0000e-01 4.7000e-01 2.4750e+01 2.0980e+01 2.4090e+01\n",
      " 3.3200e+00 4.0400e+00 3.2500e+00 3.0710e+01 1.3210e+01 1.4256e+02\n",
      " 7.0200e+00 1.5500e+00 2.5200e+00 8.5200e+01 5.0250e+01 8.9600e+00\n",
      " 1.3880e+01 4.4500e+01 3.3800e+01 3.0400e+00 1.7200e+00 3.4750e+01\n",
      " 7.3450e+01 2.7460e+01 3.6860e+01 5.1980e+01 8.7800e+00 2.3250e+01\n",
      " 4.7400e+00 1.1200e+01 1.2675e+02 7.8000e-01 1.0000e+00 8.1130e+01\n",
      " 7.2130e+01 3.6200e+00 5.0130e+01 5.7600e+01 5.7040e+01 6.9160e+01\n",
      " 4.6000e+00 7.0500e+00 1.8200e+00 7.6700e+00 8.0600e+00 7.3250e+01\n",
      " 1.0850e+01 2.0816e+02 8.5000e-01 1.1630e+01 4.4700e+00 7.3600e+01\n",
      " 4.3470e+01 4.1300e+00 3.4500e+01 8.0440e+01 2.9440e+01 2.9380e+01\n",
      " 4.9730e+01 9.4500e+00 3.0800e+00 5.3800e+00 4.0130e+01 2.5520e+01\n",
      " 4.1380e+01 2.4300e+01 2.2500e+00 7.4260e+01 1.8900e+01 1.3400e+00\n",
      " 3.3500e+00 1.8300e+00 1.2700e+00 1.3130e+01 7.9630e+01 2.4850e+01\n",
      " 5.9500e+00 1.7160e+02 4.2000e-01 6.3380e+01 2.5080e+01 5.6000e+01\n",
      " 2.8930e+01 4.6500e+00 2.1300e+00 6.0380e+01 1.4700e+00 6.5330e+01\n",
      " 2.1000e-01 1.3000e+01 2.2400e+01 1.5015e+02 2.4200e+00 6.5000e+01\n",
      " 2.8700e+00 1.6050e+01 5.0580e+01 3.7300e+00 4.9240e+01 1.1100e+01\n",
      " 6.4550e+01 2.4440e+01 1.5444e+02 4.1130e+01 1.6100e+00 9.1300e+00\n",
      " 1.9500e+00 1.0660e+01 4.4000e-01 2.5250e+01 7.2100e+00 5.1130e+01\n",
      " 1.3750e+01 4.5900e+00 8.6800e+00 1.1580e+01 5.0500e+01 5.0400e+00\n",
      " 4.3060e+01 1.9950e+01 3.6730e+01 3.7000e+01 1.2000e+00 1.5900e+00\n",
      " 1.7400e+00 5.2650e+01 1.5700e+00 2.0500e+01 3.2660e+01 1.0320e+01\n",
      " 6.3900e+00 2.9100e+00 6.1910e+01 1.0690e+01 6.4980e+01 6.5100e+00\n",
      " 8.1000e-01 1.6610e+01 2.1750e+01 2.5020e+01 1.9000e+01 2.8180e+01\n",
      " 6.5000e+00 2.1900e+00 9.0090e+01 3.2000e+01 4.9300e+00 9.8000e-01\n",
      " 1.3020e+01 1.1000e-01 4.9000e-01 5.8000e-01 8.0300e+00 3.6600e+00\n",
      " 6.5700e+00 1.4200e+00 8.4000e-01 1.0240e+02 5.5000e+00 4.5500e+00\n",
      " 7.8700e+00 6.7250e+01 5.1200e+01 3.0900e+00 1.3475e+02 4.9900e+00\n",
      " 5.4600e+01 1.7100e+00 1.6690e+01 4.3400e+01 2.3970e+01 1.6624e+02\n",
      " 7.7130e+01 1.1083e+02 1.5570e+01 6.6700e+00 6.7750e+01 5.7300e+00\n",
      " 1.6700e+01 5.8350e+01 7.2250e+01 1.1100e+00 9.3000e-01 3.4630e+01\n",
      " 2.7000e+01 5.3490e+01 6.7630e+01 2.6590e+01 1.9000e+00 2.8280e+01\n",
      " 4.5600e+01 1.1780e+01 5.9500e+01 2.3500e+00 1.9990e+01 2.6600e+00\n",
      " 2.2310e+01 7.9000e-01 1.3510e+02 3.1050e+01 2.8350e+02 2.6630e+01\n",
      " 8.9900e+00 7.3600e+00 5.7200e+00 8.9960e+01 8.9250e+01 1.2390e+01\n",
      " 1.1900e+00 6.2000e+01 3.2900e+00 6.2400e+00 1.4530e+01 6.7000e-01\n",
      " 2.8900e+00 1.5160e+01 1.9400e+00 4.3000e-01 4.1250e+01 1.2960e+01\n",
      " 2.8000e+00 1.1300e+00 2.8300e+00 1.0113e+02 1.1830e+01 3.7250e+01\n",
      " 2.5100e+00 3.5340e+01 2.1000e+01 1.8250e+01 5.4900e+01 8.7000e-01\n",
      " 3.5380e+01 5.1400e+00 1.0330e+01 2.4700e+00 4.2100e+00 1.4180e+01\n",
      " 1.1261e+02 5.2850e+01 2.6600e+01 2.0030e+01 3.8500e+00 2.4400e+01\n",
      " 2.5480e+01 1.7000e+00 1.3860e+01 2.8350e+01 1.9050e+01 4.0000e-02\n",
      " 1.0180e+01 1.1000e+01 1.6800e+02 1.1520e+02 8.3000e-01 2.9400e+01\n",
      " 1.8655e+02 3.7800e+01 1.8040e+01 6.4200e+00 6.8200e+00 3.0500e+01\n",
      " 5.6230e+01 2.3600e+00 7.3690e+01 1.0830e+01 1.6270e+01 2.3400e+00\n",
      " 4.9500e+01 1.3900e+00 2.2730e+01 1.8414e+02 1.2170e+01 2.5500e+01\n",
      " 3.8700e+00 4.4300e+00 1.0300e+02 3.0750e+01 3.8510e+01 1.3420e+01\n",
      " 1.1295e+02 6.1000e-01 6.1700e+00 4.4060e+01 2.1770e+01 2.1700e+01\n",
      " 3.0160e+01 7.8000e+00 1.0700e+00 3.9500e+00 7.5000e+01 2.3810e+01\n",
      " 4.3000e+00 1.7600e+00 3.2300e+01 2.5000e+00 6.8500e+00 2.4170e+01\n",
      " 4.5800e+00 2.7750e+01 2.7560e+01 3.5300e+00]\n",
      "Age [ 31  36  75  32  29  26  60  57  47  50  42  45  48  35  28  23  30  54\n",
      "  37  38  58  39  22  46  53  33  27  63  69  34  43 118  40  76  56  71\n",
      "  52  41  61  49  25  55  70  64  51  81   5  78  20  44  85  24  59  74\n",
      "  67  66  72  21  65  84  68  17  83  73  82  18   0  79  62  19   7  86\n",
      "  10  80  16  14   8  11   9  77  15  88   1  12  13  87   3   2]\n"
     ]
    }
   ],
   "source": [
    "#Checking for unique values in each numercial column\n",
    "for num_col in list(numerical):\n",
    "    print(num_col,train[num_col].unique())"
   ]
  },
  {
   "cell_type": "markdown",
   "metadata": {},
   "source": [
    "#### \"Duration\" column has some negative vaues which can't be possible, so Let's replace nagtive values with the mean value of \"Duration\" column, we can also replace them with values nearest to it."
   ]
  },
  {
   "cell_type": "code",
   "execution_count": 197,
   "metadata": {},
   "outputs": [],
   "source": [
    "#Replacing negative values of \"Duration\" with mean value of \"Duration\" column\n",
    "train.loc[train[\"Duration\"]<0,\"Duration\"]=train[\"Duration\"].mean()"
   ]
  },
  {
   "cell_type": "markdown",
   "metadata": {},
   "source": [
    "#### As we have already seen during EDA there are few instances where \"Commision\" is high when \"Net Sales\" is zero or low which can't be possible logically. As we can't gain high commison unless we sale something. Replacing Commision value with \"0 (zero)\" where Net sales are \"0 (zero)\""
   ]
  },
  {
   "cell_type": "code",
   "execution_count": 198,
   "metadata": {},
   "outputs": [],
   "source": [
    "#Replacing Commision value with zero where Net sales are zero\n",
    "train.loc[train[\"Net Sales\"]==0,'Commision (in value)']=0.0"
   ]
  },
  {
   "attachments": {
    "image.png": {
     "image/png": "[encoded data removed]"
    }
   },
   "cell_type": "markdown",
   "metadata": {},
   "source": [
    "#### Different methods for calculating correlation between categorical variables\n",
    "#### Carmer's V Method ![image.png](attachment:image.png)"
   ]
  },
  {
   "attachments": {
    "image.png": {
     "image/png": "[encoded data removed]"
    }
   },
   "cell_type": "markdown",
   "metadata": {},
   "source": [
    "#### Phi-Coefficient ![image.png](attachment:image.png)"
   ]
  },
  {
   "attachments": {
    "image.png": {
     "image/png": "[encoded data removed]"
    }
   },
   "cell_type": "markdown",
   "metadata": {},
   "source": [
    "#### Contingency Co-efficient ![image.png](attachment:image.png)"
   ]
  },
  {
   "cell_type": "markdown",
   "metadata": {},
   "source": [
    "#### Reference: https://medium.com/@outside2SDs/an-overview-of-correlation-measures-between-categorical-and-continuous-variables-4c7f85610365"
   ]
  },
  {
   "cell_type": "code",
   "execution_count": 199,
   "metadata": {},
   "outputs": [],
   "source": [
    "#Function to calculate Correlation of categorcial variables using Cramer's V method\n",
    "def cramers_v_correlation(col1, col2):\n",
    "    matrix = pd.crosstab(train[col1],train[col2])\n",
    "    chi2 = ss.chi2_contingency(matrix)[0]\n",
    "    n = matrix.sum().sum()\n",
    "    phi2 = chi2/n\n",
    "    r,k = matrix.shape\n",
    "    phi2corr = max(0, phi2-((k-1)*(r-1))/(n-1))\n",
    "    rcorr = r-((r-1)**2)/(n-1)\n",
    "    kcorr = k-((k-1)**2)/(n-1)\n",
    "    return np.sqrt(phi2corr/min((kcorr-1),(rcorr-1)))"
   ]
  },
  {
   "cell_type": "code",
   "execution_count": 200,
   "metadata": {},
   "outputs": [
    {
     "name": "stdout",
     "output_type": "stream",
     "text": [
      "Agency to Agency Type correlation is 0.9998615163948056\n",
      "Agency to Distribution Channel correlation is 0.9512410165152818\n",
      "Agency Type to Agency correlation is 0.9998615163948056\n",
      "Agency Type to Product Name correlation is 0.9889657680364865\n",
      "Agency Type to Gender correlation is 0.8654383804749617\n",
      "Distribution Channel to Agency correlation is 0.9512410165152818\n",
      "Distribution Channel to Product Name correlation is 0.943863560944548\n",
      "Product Name to Agency Type correlation is 0.9889657680364865\n",
      "Product Name to Distribution Channel correlation is 0.943863560944548\n",
      "Gender to Agency Type correlation is 0.8654383804749617\n"
     ]
    }
   ],
   "source": [
    "for col_1 in list(categorical):\n",
    "    for col_2 in list(categorical):\n",
    "        if((cramers_v_correlation(col_1,col_2)>0.8) and (col_1!=col_2)):\n",
    "            print(col_1,\"to\",col_2,\"correlation is\",cramers_v_correlation(col_1,col_2))"
   ]
  },
  {
   "cell_type": "markdown",
   "metadata": {},
   "source": [
    "#### As we can see through correlation value as \"Agency Type\" has very high correlation value with \"Agency\", \"Product Name\" and \"Distribution Channel\""
   ]
  },
  {
   "cell_type": "markdown",
   "metadata": {},
   "source": [
    "### Chi-square test for feature importance"
   ]
  },
  {
   "cell_type": "code",
   "execution_count": 201,
   "metadata": {},
   "outputs": [],
   "source": [
    "#Function to calculate importance of features using Chi-Square test\n",
    "def Chi_square(col_1,col_2):\n",
    "    X=train[col_1].astype('str')\n",
    "    Y=train[col_2].astype('str')\n",
    "    observed_values=pd.crosstab(Y,X)\n",
    "    chi2, p, dof, expected = ss.chi2_contingency(observed_values)\n",
    "    if(p>0.05):\n",
    "        print(col_1,\" is not required\")\n",
    "    else:\n",
    "        print(col_1,\" is required\")"
   ]
  },
  {
   "cell_type": "code",
   "execution_count": 202,
   "metadata": {},
   "outputs": [
    {
     "name": "stdout",
     "output_type": "stream",
     "text": [
      "Agency  is required\n",
      "Agency Type  is required\n",
      "Distribution Channel  is not required\n",
      "Product Name  is required\n",
      "Claim  is required\n",
      "Duration  is required\n",
      "Destination  is required\n",
      "Net Sales  is required\n",
      "Commision (in value)  is required\n",
      "Gender  is required\n",
      "Age  is required\n"
     ]
    }
   ],
   "source": [
    "for col in list(train):\n",
    "    Chi_square(col,\"Claim\")"
   ]
  },
  {
   "cell_type": "markdown",
   "metadata": {},
   "source": [
    "#### We can remove \"Agency Type\" to avoid Multicollinearity and \"Distribution Channel\" as its is not importnat as per Chi-Square test"
   ]
  },
  {
   "cell_type": "code",
   "execution_count": 203,
   "metadata": {},
   "outputs": [],
   "source": [
    "#dropping columns which are not required\n",
    "train=train.drop([\"Distribution Channel\",'Agency Type'],1)"
   ]
  },
  {
   "cell_type": "code",
   "execution_count": 204,
   "metadata": {},
   "outputs": [
    {
     "data": {
      "text/html": [
       "<div>\n",
       "<style scoped>\n",
       "    .dataframe tbody tr th:only-of-type {\n",
       "        vertical-align: middle;\n",
       "    }\n",
       "\n",
       "    .dataframe tbody tr th {\n",
       "        vertical-align: top;\n",
       "    }\n",
       "\n",
       "    .dataframe thead th {\n",
       "        text-align: right;\n",
       "    }\n",
       "</style>\n",
       "<table border=\"1\" class=\"dataframe\">\n",
       "  <thead>\n",
       "    <tr style=\"text-align: right;\">\n",
       "      <th></th>\n",
       "      <th>Agency</th>\n",
       "      <th>Product Name</th>\n",
       "      <th>Claim</th>\n",
       "      <th>Duration</th>\n",
       "      <th>Destination</th>\n",
       "      <th>Net Sales</th>\n",
       "      <th>Commision (in value)</th>\n",
       "      <th>Gender</th>\n",
       "      <th>Age</th>\n",
       "    </tr>\n",
       "  </thead>\n",
       "  <tbody>\n",
       "    <tr>\n",
       "      <th>0</th>\n",
       "      <td>CWT</td>\n",
       "      <td>Rental Vehicle Excess Insurance</td>\n",
       "      <td>0</td>\n",
       "      <td>7.0</td>\n",
       "      <td>MALAYSIA</td>\n",
       "      <td>0.0</td>\n",
       "      <td>0.00</td>\n",
       "      <td>Not Present</td>\n",
       "      <td>31</td>\n",
       "    </tr>\n",
       "    <tr>\n",
       "      <th>1</th>\n",
       "      <td>EPX</td>\n",
       "      <td>Cancellation Plan</td>\n",
       "      <td>0</td>\n",
       "      <td>85.0</td>\n",
       "      <td>SINGAPORE</td>\n",
       "      <td>69.0</td>\n",
       "      <td>0.00</td>\n",
       "      <td>Not Present</td>\n",
       "      <td>36</td>\n",
       "    </tr>\n",
       "    <tr>\n",
       "      <th>2</th>\n",
       "      <td>CWT</td>\n",
       "      <td>Rental Vehicle Excess Insurance</td>\n",
       "      <td>0</td>\n",
       "      <td>11.0</td>\n",
       "      <td>MALAYSIA</td>\n",
       "      <td>19.8</td>\n",
       "      <td>11.88</td>\n",
       "      <td>Not Present</td>\n",
       "      <td>75</td>\n",
       "    </tr>\n",
       "    <tr>\n",
       "      <th>3</th>\n",
       "      <td>EPX</td>\n",
       "      <td>2 way Comprehensive Plan</td>\n",
       "      <td>0</td>\n",
       "      <td>16.0</td>\n",
       "      <td>INDONESIA</td>\n",
       "      <td>20.0</td>\n",
       "      <td>0.00</td>\n",
       "      <td>Not Present</td>\n",
       "      <td>32</td>\n",
       "    </tr>\n",
       "    <tr>\n",
       "      <th>4</th>\n",
       "      <td>EPX</td>\n",
       "      <td>Cancellation Plan</td>\n",
       "      <td>0</td>\n",
       "      <td>10.0</td>\n",
       "      <td>KOREA, REPUBLIC OF</td>\n",
       "      <td>15.0</td>\n",
       "      <td>0.00</td>\n",
       "      <td>Not Present</td>\n",
       "      <td>29</td>\n",
       "    </tr>\n",
       "  </tbody>\n",
       "</table>\n",
       "</div>"
      ],
      "text/plain": [
       "  Agency                     Product Name  Claim  Duration  \\\n",
       "0    CWT  Rental Vehicle Excess Insurance      0       7.0   \n",
       "1    EPX                Cancellation Plan      0      85.0   \n",
       "2    CWT  Rental Vehicle Excess Insurance      0      11.0   \n",
       "3    EPX         2 way Comprehensive Plan      0      16.0   \n",
       "4    EPX                Cancellation Plan      0      10.0   \n",
       "\n",
       "          Destination  Net Sales  Commision (in value)       Gender  Age  \n",
       "0            MALAYSIA        0.0                  0.00  Not Present   31  \n",
       "1           SINGAPORE       69.0                  0.00  Not Present   36  \n",
       "2            MALAYSIA       19.8                 11.88  Not Present   75  \n",
       "3           INDONESIA       20.0                  0.00  Not Present   32  \n",
       "4  KOREA, REPUBLIC OF       15.0                  0.00  Not Present   29  "
      ]
     },
     "execution_count": 204,
     "metadata": {},
     "output_type": "execute_result"
    }
   ],
   "source": [
    "train.head()"
   ]
  },
  {
   "cell_type": "code",
   "execution_count": 205,
   "metadata": {},
   "outputs": [
    {
     "data": {
      "text/plain": [
       "(50553, 9)"
      ]
     },
     "execution_count": 205,
     "metadata": {},
     "output_type": "execute_result"
    }
   ],
   "source": [
    "train.shape"
   ]
  },
  {
   "cell_type": "code",
   "execution_count": 206,
   "metadata": {},
   "outputs": [],
   "source": [
    "#Performing One-Hot encoding on dataset\n",
    "dummy_train=pd.get_dummies(train)"
   ]
  },
  {
   "cell_type": "code",
   "execution_count": 207,
   "metadata": {},
   "outputs": [
    {
     "data": {
      "text/plain": [
       "(50553, 151)"
      ]
     },
     "execution_count": 207,
     "metadata": {},
     "output_type": "execute_result"
    }
   ],
   "source": [
    "#Shape of One-Hot encoded dataset\n",
    "dummy_train.shape"
   ]
  },
  {
   "cell_type": "code",
   "execution_count": 208,
   "metadata": {},
   "outputs": [],
   "source": [
    "#Dropping unnecessary columns for One-Hot encoded dataset\n",
    "dummy_train=dummy_train.drop([\"Agency_ADM\",\"Product Name_1 way Comprehensive Plan\",\"Destination_ARGENTINA\",\"Gender_F\"],1)"
   ]
  },
  {
   "cell_type": "code",
   "execution_count": 209,
   "metadata": {},
   "outputs": [
    {
     "data": {
      "text/plain": [
       "(50553, 147)"
      ]
     },
     "execution_count": 209,
     "metadata": {},
     "output_type": "execute_result"
    }
   ],
   "source": [
    "#New shape of One-Hot Encoded dataset\n",
    "dummy_train.shape"
   ]
  },
  {
   "cell_type": "code",
   "execution_count": 210,
   "metadata": {},
   "outputs": [],
   "source": [
    "#Performing scaling o Dataset\n",
    "scaler=StandardScaler()\n",
    "dummy_train_scaled=pd.DataFrame(scaler.fit_transform(dummy_train),columns=list(dummy_train))"
   ]
  },
  {
   "cell_type": "code",
   "execution_count": 211,
   "metadata": {},
   "outputs": [
    {
     "data": {
      "text/html": [
       "<div>\n",
       "<style scoped>\n",
       "    .dataframe tbody tr th:only-of-type {\n",
       "        vertical-align: middle;\n",
       "    }\n",
       "\n",
       "    .dataframe tbody tr th {\n",
       "        vertical-align: top;\n",
       "    }\n",
       "\n",
       "    .dataframe thead th {\n",
       "        text-align: right;\n",
       "    }\n",
       "</style>\n",
       "<table border=\"1\" class=\"dataframe\">\n",
       "  <thead>\n",
       "    <tr style=\"text-align: right;\">\n",
       "      <th></th>\n",
       "      <th>Claim</th>\n",
       "      <th>Duration</th>\n",
       "      <th>Net Sales</th>\n",
       "      <th>Commision (in value)</th>\n",
       "      <th>Age</th>\n",
       "      <th>Agency_ART</th>\n",
       "      <th>Agency_C2B</th>\n",
       "      <th>Agency_CBH</th>\n",
       "      <th>Agency_CCR</th>\n",
       "      <th>Agency_CSR</th>\n",
       "      <th>...</th>\n",
       "      <th>Destination_UNITED ARAB EMIRATES</th>\n",
       "      <th>Destination_UNITED KINGDOM</th>\n",
       "      <th>Destination_UNITED STATES</th>\n",
       "      <th>Destination_UZBEKISTAN</th>\n",
       "      <th>Destination_VANUATU</th>\n",
       "      <th>Destination_VENEZUELA</th>\n",
       "      <th>Destination_VIET NAM</th>\n",
       "      <th>Destination_ZAMBIA</th>\n",
       "      <th>Gender_M</th>\n",
       "      <th>Gender_Not Present</th>\n",
       "    </tr>\n",
       "  </thead>\n",
       "  <tbody>\n",
       "    <tr>\n",
       "      <th>0</th>\n",
       "      <td>-0.121967</td>\n",
       "      <td>-0.418296</td>\n",
       "      <td>-0.834389</td>\n",
       "      <td>-0.474719</td>\n",
       "      <td>-0.640165</td>\n",
       "      <td>-0.07355</td>\n",
       "      <td>-0.388551</td>\n",
       "      <td>-0.040061</td>\n",
       "      <td>-0.055993</td>\n",
       "      <td>-0.036701</td>\n",
       "      <td>...</td>\n",
       "      <td>-0.065506</td>\n",
       "      <td>-0.14493</td>\n",
       "      <td>-0.203907</td>\n",
       "      <td>-0.013344</td>\n",
       "      <td>-0.008896</td>\n",
       "      <td>-0.008896</td>\n",
       "      <td>-0.166083</td>\n",
       "      <td>-0.00629</td>\n",
       "      <td>-0.418259</td>\n",
       "      <td>0.637249</td>\n",
       "    </tr>\n",
       "    <tr>\n",
       "      <th>1</th>\n",
       "      <td>-0.121967</td>\n",
       "      <td>0.350685</td>\n",
       "      <td>0.576677</td>\n",
       "      <td>-0.474719</td>\n",
       "      <td>-0.284961</td>\n",
       "      <td>-0.07355</td>\n",
       "      <td>-0.388551</td>\n",
       "      <td>-0.040061</td>\n",
       "      <td>-0.055993</td>\n",
       "      <td>-0.036701</td>\n",
       "      <td>...</td>\n",
       "      <td>-0.065506</td>\n",
       "      <td>-0.14493</td>\n",
       "      <td>-0.203907</td>\n",
       "      <td>-0.013344</td>\n",
       "      <td>-0.008896</td>\n",
       "      <td>-0.008896</td>\n",
       "      <td>-0.166083</td>\n",
       "      <td>-0.00629</td>\n",
       "      <td>-0.418259</td>\n",
       "      <td>0.637249</td>\n",
       "    </tr>\n",
       "    <tr>\n",
       "      <th>2</th>\n",
       "      <td>-0.121967</td>\n",
       "      <td>-0.378861</td>\n",
       "      <td>-0.429475</td>\n",
       "      <td>0.135019</td>\n",
       "      <td>2.485628</td>\n",
       "      <td>-0.07355</td>\n",
       "      <td>-0.388551</td>\n",
       "      <td>-0.040061</td>\n",
       "      <td>-0.055993</td>\n",
       "      <td>-0.036701</td>\n",
       "      <td>...</td>\n",
       "      <td>-0.065506</td>\n",
       "      <td>-0.14493</td>\n",
       "      <td>-0.203907</td>\n",
       "      <td>-0.013344</td>\n",
       "      <td>-0.008896</td>\n",
       "      <td>-0.008896</td>\n",
       "      <td>-0.166083</td>\n",
       "      <td>-0.00629</td>\n",
       "      <td>-0.418259</td>\n",
       "      <td>0.637249</td>\n",
       "    </tr>\n",
       "    <tr>\n",
       "      <th>3</th>\n",
       "      <td>-0.121967</td>\n",
       "      <td>-0.329567</td>\n",
       "      <td>-0.425385</td>\n",
       "      <td>-0.474719</td>\n",
       "      <td>-0.569124</td>\n",
       "      <td>-0.07355</td>\n",
       "      <td>-0.388551</td>\n",
       "      <td>-0.040061</td>\n",
       "      <td>-0.055993</td>\n",
       "      <td>-0.036701</td>\n",
       "      <td>...</td>\n",
       "      <td>-0.065506</td>\n",
       "      <td>-0.14493</td>\n",
       "      <td>-0.203907</td>\n",
       "      <td>-0.013344</td>\n",
       "      <td>-0.008896</td>\n",
       "      <td>-0.008896</td>\n",
       "      <td>-0.166083</td>\n",
       "      <td>-0.00629</td>\n",
       "      <td>-0.418259</td>\n",
       "      <td>0.637249</td>\n",
       "    </tr>\n",
       "    <tr>\n",
       "      <th>4</th>\n",
       "      <td>-0.121967</td>\n",
       "      <td>-0.388720</td>\n",
       "      <td>-0.527636</td>\n",
       "      <td>-0.474719</td>\n",
       "      <td>-0.782247</td>\n",
       "      <td>-0.07355</td>\n",
       "      <td>-0.388551</td>\n",
       "      <td>-0.040061</td>\n",
       "      <td>-0.055993</td>\n",
       "      <td>-0.036701</td>\n",
       "      <td>...</td>\n",
       "      <td>-0.065506</td>\n",
       "      <td>-0.14493</td>\n",
       "      <td>-0.203907</td>\n",
       "      <td>-0.013344</td>\n",
       "      <td>-0.008896</td>\n",
       "      <td>-0.008896</td>\n",
       "      <td>-0.166083</td>\n",
       "      <td>-0.00629</td>\n",
       "      <td>-0.418259</td>\n",
       "      <td>0.637249</td>\n",
       "    </tr>\n",
       "  </tbody>\n",
       "</table>\n",
       "<p>5 rows × 147 columns</p>\n",
       "</div>"
      ],
      "text/plain": [
       "      Claim  Duration  Net Sales  Commision (in value)       Age  Agency_ART  \\\n",
       "0 -0.121967 -0.418296  -0.834389             -0.474719 -0.640165    -0.07355   \n",
       "1 -0.121967  0.350685   0.576677             -0.474719 -0.284961    -0.07355   \n",
       "2 -0.121967 -0.378861  -0.429475              0.135019  2.485628    -0.07355   \n",
       "3 -0.121967 -0.329567  -0.425385             -0.474719 -0.569124    -0.07355   \n",
       "4 -0.121967 -0.388720  -0.527636             -0.474719 -0.782247    -0.07355   \n",
       "\n",
       "   Agency_C2B  Agency_CBH  Agency_CCR  Agency_CSR  ...  \\\n",
       "0   -0.388551   -0.040061   -0.055993   -0.036701  ...   \n",
       "1   -0.388551   -0.040061   -0.055993   -0.036701  ...   \n",
       "2   -0.388551   -0.040061   -0.055993   -0.036701  ...   \n",
       "3   -0.388551   -0.040061   -0.055993   -0.036701  ...   \n",
       "4   -0.388551   -0.040061   -0.055993   -0.036701  ...   \n",
       "\n",
       "   Destination_UNITED ARAB EMIRATES  Destination_UNITED KINGDOM  \\\n",
       "0                         -0.065506                    -0.14493   \n",
       "1                         -0.065506                    -0.14493   \n",
       "2                         -0.065506                    -0.14493   \n",
       "3                         -0.065506                    -0.14493   \n",
       "4                         -0.065506                    -0.14493   \n",
       "\n",
       "   Destination_UNITED STATES  Destination_UZBEKISTAN  Destination_VANUATU  \\\n",
       "0                  -0.203907               -0.013344            -0.008896   \n",
       "1                  -0.203907               -0.013344            -0.008896   \n",
       "2                  -0.203907               -0.013344            -0.008896   \n",
       "3                  -0.203907               -0.013344            -0.008896   \n",
       "4                  -0.203907               -0.013344            -0.008896   \n",
       "\n",
       "   Destination_VENEZUELA  Destination_VIET NAM  Destination_ZAMBIA  Gender_M  \\\n",
       "0              -0.008896             -0.166083            -0.00629 -0.418259   \n",
       "1              -0.008896             -0.166083            -0.00629 -0.418259   \n",
       "2              -0.008896             -0.166083            -0.00629 -0.418259   \n",
       "3              -0.008896             -0.166083            -0.00629 -0.418259   \n",
       "4              -0.008896             -0.166083            -0.00629 -0.418259   \n",
       "\n",
       "   Gender_Not Present  \n",
       "0            0.637249  \n",
       "1            0.637249  \n",
       "2            0.637249  \n",
       "3            0.637249  \n",
       "4            0.637249  \n",
       "\n",
       "[5 rows x 147 columns]"
      ]
     },
     "execution_count": 211,
     "metadata": {},
     "output_type": "execute_result"
    }
   ],
   "source": [
    "#scaled dataset\n",
    "dummy_train_scaled.head()"
   ]
  },
  {
   "cell_type": "code",
   "execution_count": 212,
   "metadata": {},
   "outputs": [],
   "source": [
    "#Sorting target column and features\n",
    "X=dummy_train_scaled.drop([\"Claim\"],1)\n",
    "y=train[\"Claim\"]"
   ]
  },
  {
   "cell_type": "markdown",
   "metadata": {},
   "source": [
    "#### Feature Selection using Backward Elimination"
   ]
  },
  {
   "cell_type": "code",
   "execution_count": 213,
   "metadata": {},
   "outputs": [
    {
     "name": "stdout",
     "output_type": "stream",
     "text": [
      "Best features using Backward Elimination:  ['Net Sales', 'Commision (in value)', 'Age', 'Agency_C2B', 'Product Name_2 way Comprehensive Plan', 'Product Name_Annual Silver Plan', 'Product Name_Annual Travel Protect Gold', 'Product Name_Annual Travel Protect Platinum', 'Product Name_Comprehensive Plan', 'Product Name_Individual Comprehensive Plan', 'Product Name_Silver Plan', 'Product Name_Single Trip Travel Protect Gold', 'Product Name_Single Trip Travel Protect Platinum', 'Product Name_Spouse or Parents Comprehensive Plan']\n"
     ]
    }
   ],
   "source": [
    "#Function to perform Backward Elimination\n",
    "import statsmodels.api as sm\n",
    "cols = list(X.columns)\n",
    "pmax = 1\n",
    "while (pmax>0.05):\n",
    "    p=[]\n",
    "    X_1 = X[cols]\n",
    "    X_1 = sm.add_constant(X_1)\n",
    "    model = sm.OLS(y,X_1).fit()\n",
    "    p = pd.Series(model.pvalues.values[1:],index = cols)      \n",
    "    pmax = max(p)\n",
    "    feature_with_p_max = p.idxmax()\n",
    "    if(pmax>0.05):\n",
    "        cols.remove(feature_with_p_max)\n",
    "    else:\n",
    "        breakselected_features_BE = cols\n",
    "print(\"Best features using Backward Elimination: \",cols)"
   ]
  },
  {
   "cell_type": "code",
   "execution_count": 214,
   "metadata": {},
   "outputs": [],
   "source": [
    "#Sorting out target column and important features selected using feature selection method\n",
    "new_X=dummy_train_scaled[cols]\n",
    "new_y=train[\"Claim\"]"
   ]
  },
  {
   "cell_type": "code",
   "execution_count": 215,
   "metadata": {},
   "outputs": [
    {
     "data": {
      "text/plain": [
       "0    98.534212\n",
       "1     1.465788\n",
       "Name: Claim, dtype: float64"
      ]
     },
     "execution_count": 215,
     "metadata": {},
     "output_type": "execute_result"
    }
   ],
   "source": [
    "#Checking data imbalance \n",
    "new_y.value_counts()/train.shape[0]*100"
   ]
  },
  {
   "cell_type": "markdown",
   "metadata": {},
   "source": [
    "#### Dataset contains huge Data imbalance, applying SMOTE to remove Data imbalance"
   ]
  },
  {
   "cell_type": "code",
   "execution_count": 216,
   "metadata": {},
   "outputs": [],
   "source": [
    "#Intializing SMOTE \n",
    "sm=SMOTE(random_state=0)"
   ]
  },
  {
   "cell_type": "code",
   "execution_count": 217,
   "metadata": {},
   "outputs": [],
   "source": [
    "#Removing Data imbalance using SMOTE \n",
    "sm_X,sm_y=sm.fit_sample(new_X,new_y)"
   ]
  },
  {
   "cell_type": "code",
   "execution_count": 218,
   "metadata": {},
   "outputs": [
    {
     "data": {
      "text/plain": [
       "1    49812\n",
       "0    49812\n",
       "dtype: int64"
      ]
     },
     "execution_count": 218,
     "metadata": {},
     "output_type": "execute_result"
    }
   ],
   "source": [
    "#Checking for Data imbalance again\n",
    "pd.Series(sm_y).value_counts()"
   ]
  },
  {
   "cell_type": "code",
   "execution_count": 219,
   "metadata": {},
   "outputs": [],
   "source": [
    "#Performing Train-Test split\n",
    "X_train,X_test,y_train,y_test=tts(sm_X,sm_y,test_size=0.3,random_state=0)"
   ]
  },
  {
   "cell_type": "code",
   "execution_count": 220,
   "metadata": {},
   "outputs": [
    {
     "data": {
      "text/plain": [
       "1    15065\n",
       "0    14823\n",
       "dtype: int64"
      ]
     },
     "execution_count": 220,
     "metadata": {},
     "output_type": "execute_result"
    }
   ],
   "source": [
    "pd.Series(y_test).value_counts()"
   ]
  },
  {
   "cell_type": "code",
   "execution_count": 221,
   "metadata": {},
   "outputs": [],
   "source": [
    "#Intializing Simple Logistic Regression Model\n",
    "logreg=LogisticRegression()"
   ]
  },
  {
   "cell_type": "code",
   "execution_count": 222,
   "metadata": {},
   "outputs": [
    {
     "data": {
      "text/plain": [
       "LogisticRegression(C=1.0, class_weight=None, dual=False, fit_intercept=True,\n",
       "                   intercept_scaling=1, l1_ratio=None, max_iter=100,\n",
       "                   multi_class='warn', n_jobs=None, penalty='l2',\n",
       "                   random_state=None, solver='warn', tol=0.0001, verbose=0,\n",
       "                   warm_start=False)"
      ]
     },
     "execution_count": 222,
     "metadata": {},
     "output_type": "execute_result"
    }
   ],
   "source": [
    "#Fitting Logistic Regression Model on Train set\n",
    "logreg.fit(X_train,y_train)"
   ]
  },
  {
   "cell_type": "code",
   "execution_count": 223,
   "metadata": {},
   "outputs": [],
   "source": [
    "#Performing prediction on test set\n",
    "y_pred=logreg.predict(X_test)"
   ]
  },
  {
   "cell_type": "code",
   "execution_count": 224,
   "metadata": {},
   "outputs": [
    {
     "data": {
      "text/plain": [
       "0.7522751605995718"
      ]
     },
     "execution_count": 224,
     "metadata": {},
     "output_type": "execute_result"
    }
   ],
   "source": [
    "#Calculating Accuracy score\n",
    "accuracy_score(y_test,y_pred)"
   ]
  },
  {
   "cell_type": "code",
   "execution_count": 225,
   "metadata": {},
   "outputs": [
    {
     "name": "stdout",
     "output_type": "stream",
     "text": [
      "              precision    recall  f1-score   support\n",
      "\n",
      "           0       0.71      0.85      0.77     14823\n",
      "           1       0.81      0.66      0.73     15065\n",
      "\n",
      "    accuracy                           0.75     29888\n",
      "   macro avg       0.76      0.75      0.75     29888\n",
      "weighted avg       0.76      0.75      0.75     29888\n",
      "\n"
     ]
    }
   ],
   "source": [
    "#Printing Classification report\n",
    "print(classification_report(y_test,y_pred))"
   ]
  },
  {
   "cell_type": "code",
   "execution_count": 226,
   "metadata": {},
   "outputs": [
    {
     "data": {
      "text/plain": [
       "0.7530370172437909"
      ]
     },
     "execution_count": 226,
     "metadata": {},
     "output_type": "execute_result"
    }
   ],
   "source": [
    "roc_auc_score(y_test,y_pred)"
   ]
  },
  {
   "cell_type": "code",
   "execution_count": 227,
   "metadata": {},
   "outputs": [],
   "source": [
    "def curve_roc(model,X_test,y_test):\n",
    "    probs=model.predict_proba(X_test)\n",
    "    probs = probs[:, 1]\n",
    "    probs.shape\n",
    "    fpr, tpr, thresholds = roc_curve(y_test, probs)\n",
    "    plt.plot([0, 1], [0, 1], linestyle='--')\n",
    "    plt.plot(fpr, tpr)\n",
    "    plt.show()"
   ]
  },
  {
   "cell_type": "code",
   "execution_count": 228,
   "metadata": {},
   "outputs": [
    {
     "data": {
      "image/png": "[encoded data removed]",
      "text/plain": [
       "<Figure size 432x288 with 1 Axes>"
      ]
     },
     "metadata": {
      "needs_background": "light"
     },
     "output_type": "display_data"
    }
   ],
   "source": [
    "curve_roc(logreg,X_test,y_test)"
   ]
  },
  {
   "cell_type": "markdown",
   "metadata": {},
   "source": [
    "#### Precision and Recall looks descent "
   ]
  },
  {
   "cell_type": "markdown",
   "metadata": {},
   "source": [
    "#### Performing Hyper Parameter tunning and Cross-validation using GridSearchCV"
   ]
  },
  {
   "cell_type": "code",
   "execution_count": 229,
   "metadata": {},
   "outputs": [],
   "source": [
    "#Defining parameters for GridSearchCV\n",
    "logreg_param={\"C\":np.arange(0.01,1,0.01),\n",
    "             \"penalty\":['l1','l2']}"
   ]
  },
  {
   "cell_type": "code",
   "execution_count": 230,
   "metadata": {},
   "outputs": [],
   "source": [
    "#Initializing GridSearchCV with 5 Fold Cross validation \n",
    "logreg_cv=GridSearchCV(estimator=logreg,param_grid=logreg_param,cv=5)"
   ]
  },
  {
   "cell_type": "code",
   "execution_count": 231,
   "metadata": {},
   "outputs": [
    {
     "data": {
      "text/plain": [
       "GridSearchCV(cv=5, error_score='raise-deprecating',\n",
       "             estimator=LogisticRegression(C=1.0, class_weight=None, dual=False,\n",
       "                                          fit_intercept=True,\n",
       "                                          intercept_scaling=1, l1_ratio=None,\n",
       "                                          max_iter=100, multi_class='warn',\n",
       "                                          n_jobs=None, penalty='l2',\n",
       "                                          random_state=None, solver='warn',\n",
       "                                          tol=0.0001, verbose=0,\n",
       "                                          warm_start=False),\n",
       "             iid='warn', n_jobs=None,\n",
       "             param_grid={'C': array([0.01, 0.02...\n",
       "       0.45, 0.46, 0.47, 0.48, 0.49, 0.5 , 0.51, 0.52, 0.53, 0.54, 0.55,\n",
       "       0.56, 0.57, 0.58, 0.59, 0.6 , 0.61, 0.62, 0.63, 0.64, 0.65, 0.66,\n",
       "       0.67, 0.68, 0.69, 0.7 , 0.71, 0.72, 0.73, 0.74, 0.75, 0.76, 0.77,\n",
       "       0.78, 0.79, 0.8 , 0.81, 0.82, 0.83, 0.84, 0.85, 0.86, 0.87, 0.88,\n",
       "       0.89, 0.9 , 0.91, 0.92, 0.93, 0.94, 0.95, 0.96, 0.97, 0.98, 0.99]),\n",
       "                         'penalty': ['l1', 'l2']},\n",
       "             pre_dispatch='2*n_jobs', refit=True, return_train_score=False,\n",
       "             scoring=None, verbose=0)"
      ]
     },
     "execution_count": 231,
     "metadata": {},
     "output_type": "execute_result"
    }
   ],
   "source": [
    "#Fitting GridSearchCV model on Train Set\n",
    "logreg_cv.fit(sm_X,sm_y)"
   ]
  },
  {
   "cell_type": "code",
   "execution_count": 232,
   "metadata": {},
   "outputs": [
    {
     "data": {
      "text/plain": [
       "LogisticRegression(C=0.02, class_weight=None, dual=False, fit_intercept=True,\n",
       "                   intercept_scaling=1, l1_ratio=None, max_iter=100,\n",
       "                   multi_class='warn', n_jobs=None, penalty='l2',\n",
       "                   random_state=None, solver='warn', tol=0.0001, verbose=0,\n",
       "                   warm_start=False)"
      ]
     },
     "execution_count": 232,
     "metadata": {},
     "output_type": "execute_result"
    }
   ],
   "source": [
    "#Best Estimator after GridSearchCV\n",
    "logreg_cv.best_estimator_"
   ]
  },
  {
   "cell_type": "code",
   "execution_count": 233,
   "metadata": {},
   "outputs": [],
   "source": [
    "#Performing prediction on Test set using best estimator\n",
    "y_pred_cv=logreg_cv.best_estimator_.predict(X_test)"
   ]
  },
  {
   "cell_type": "code",
   "execution_count": 234,
   "metadata": {},
   "outputs": [
    {
     "data": {
      "text/plain": [
       "0.753546573875803"
      ]
     },
     "execution_count": 234,
     "metadata": {},
     "output_type": "execute_result"
    }
   ],
   "source": [
    "#Accuracy Score for best estimator\n",
    "accuracy_score(y_test,y_pred_cv)"
   ]
  },
  {
   "cell_type": "code",
   "execution_count": 235,
   "metadata": {},
   "outputs": [
    {
     "name": "stdout",
     "output_type": "stream",
     "text": [
      "              precision    recall  f1-score   support\n",
      "\n",
      "           0       0.71      0.85      0.77     14823\n",
      "           1       0.82      0.66      0.73     15065\n",
      "\n",
      "    accuracy                           0.75     29888\n",
      "   macro avg       0.76      0.75      0.75     29888\n",
      "weighted avg       0.76      0.75      0.75     29888\n",
      "\n"
     ]
    }
   ],
   "source": [
    "#Classification Report for Best Estimator\n",
    "print(classification_report(y_test,y_pred_cv))"
   ]
  },
  {
   "cell_type": "code",
   "execution_count": 236,
   "metadata": {},
   "outputs": [
    {
     "data": {
      "text/plain": [
       "0.7543204346077386"
      ]
     },
     "execution_count": 236,
     "metadata": {},
     "output_type": "execute_result"
    }
   ],
   "source": [
    "roc_auc_score(y_test,y_pred_cv)"
   ]
  },
  {
   "cell_type": "code",
   "execution_count": 237,
   "metadata": {},
   "outputs": [
    {
     "data": {
      "image/png": "[encoded data removed]",
      "text/plain": [
       "<Figure size 432x288 with 1 Axes>"
      ]
     },
     "metadata": {
      "needs_background": "light"
     },
     "output_type": "display_data"
    }
   ],
   "source": [
    "curve_roc(logreg_cv,X_test,y_test)"
   ]
  },
  {
   "cell_type": "code",
   "execution_count": 238,
   "metadata": {},
   "outputs": [
    {
     "data": {
      "text/html": [
       "<div>\n",
       "<style scoped>\n",
       "    .dataframe tbody tr th:only-of-type {\n",
       "        vertical-align: middle;\n",
       "    }\n",
       "\n",
       "    .dataframe tbody tr th {\n",
       "        vertical-align: top;\n",
       "    }\n",
       "\n",
       "    .dataframe thead th {\n",
       "        text-align: right;\n",
       "    }\n",
       "</style>\n",
       "<table border=\"1\" class=\"dataframe\">\n",
       "  <thead>\n",
       "    <tr style=\"text-align: right;\">\n",
       "      <th></th>\n",
       "      <th>Features</th>\n",
       "      <th>Importance</th>\n",
       "    </tr>\n",
       "  </thead>\n",
       "  <tbody>\n",
       "    <tr>\n",
       "      <th>3</th>\n",
       "      <td>Agency_C2B</td>\n",
       "      <td>[0.8146143941330921]</td>\n",
       "    </tr>\n",
       "    <tr>\n",
       "      <th>1</th>\n",
       "      <td>Commision (in value)</td>\n",
       "      <td>[0.42836002867220496]</td>\n",
       "    </tr>\n",
       "    <tr>\n",
       "      <th>4</th>\n",
       "      <td>Product Name_2 way Comprehensive Plan</td>\n",
       "      <td>[0.41181063659811223]</td>\n",
       "    </tr>\n",
       "    <tr>\n",
       "      <th>0</th>\n",
       "      <td>Net Sales</td>\n",
       "      <td>[0.22613528329389015]</td>\n",
       "    </tr>\n",
       "    <tr>\n",
       "      <th>11</th>\n",
       "      <td>Product Name_Single Trip Travel Protect Gold</td>\n",
       "      <td>[0.10560188198997289]</td>\n",
       "    </tr>\n",
       "    <tr>\n",
       "      <th>8</th>\n",
       "      <td>Product Name_Comprehensive Plan</td>\n",
       "      <td>[0.09991085302140136]</td>\n",
       "    </tr>\n",
       "    <tr>\n",
       "      <th>12</th>\n",
       "      <td>Product Name_Single Trip Travel Protect Platinum</td>\n",
       "      <td>[0.08471234495644671]</td>\n",
       "    </tr>\n",
       "    <tr>\n",
       "      <th>9</th>\n",
       "      <td>Product Name_Individual Comprehensive Plan</td>\n",
       "      <td>[0.08428159675138931]</td>\n",
       "    </tr>\n",
       "    <tr>\n",
       "      <th>13</th>\n",
       "      <td>Product Name_Spouse or Parents Comprehensive Plan</td>\n",
       "      <td>[0.05102059111395194]</td>\n",
       "    </tr>\n",
       "    <tr>\n",
       "      <th>10</th>\n",
       "      <td>Product Name_Silver Plan</td>\n",
       "      <td>[0.031122596484343547]</td>\n",
       "    </tr>\n",
       "    <tr>\n",
       "      <th>2</th>\n",
       "      <td>Age</td>\n",
       "      <td>[-0.009070819979649971]</td>\n",
       "    </tr>\n",
       "    <tr>\n",
       "      <th>6</th>\n",
       "      <td>Product Name_Annual Travel Protect Gold</td>\n",
       "      <td>[-0.027679720328962733]</td>\n",
       "    </tr>\n",
       "    <tr>\n",
       "      <th>5</th>\n",
       "      <td>Product Name_Annual Silver Plan</td>\n",
       "      <td>[-0.14861154636092705]</td>\n",
       "    </tr>\n",
       "    <tr>\n",
       "      <th>7</th>\n",
       "      <td>Product Name_Annual Travel Protect Platinum</td>\n",
       "      <td>[-0.15776747670273147]</td>\n",
       "    </tr>\n",
       "  </tbody>\n",
       "</table>\n",
       "</div>"
      ],
      "text/plain": [
       "                                             Features               Importance\n",
       "3                                          Agency_C2B     [0.8146143941330921]\n",
       "1                                Commision (in value)    [0.42836002867220496]\n",
       "4               Product Name_2 way Comprehensive Plan    [0.41181063659811223]\n",
       "0                                           Net Sales    [0.22613528329389015]\n",
       "11       Product Name_Single Trip Travel Protect Gold    [0.10560188198997289]\n",
       "8                     Product Name_Comprehensive Plan    [0.09991085302140136]\n",
       "12   Product Name_Single Trip Travel Protect Platinum    [0.08471234495644671]\n",
       "9          Product Name_Individual Comprehensive Plan    [0.08428159675138931]\n",
       "13  Product Name_Spouse or Parents Comprehensive Plan    [0.05102059111395194]\n",
       "10                           Product Name_Silver Plan   [0.031122596484343547]\n",
       "2                                                 Age  [-0.009070819979649971]\n",
       "6             Product Name_Annual Travel Protect Gold  [-0.027679720328962733]\n",
       "5                     Product Name_Annual Silver Plan   [-0.14861154636092705]\n",
       "7         Product Name_Annual Travel Protect Platinum   [-0.15776747670273147]"
      ]
     },
     "execution_count": 238,
     "metadata": {},
     "output_type": "execute_result"
    }
   ],
   "source": [
    "feature_importance=list(logreg_cv.best_estimator_.coef_.T)\n",
    "features=list(cols)\n",
    "f_imp= pd.DataFrame(list(zip(features,feature_importance)), columns =['Features', 'Importance']) \n",
    "f_imp.sort_values(by=\"Importance\",ascending=False)"
   ]
  },
  {
   "cell_type": "code",
   "execution_count": 239,
   "metadata": {},
   "outputs": [
    {
     "data": {
      "text/html": [
       "<div>\n",
       "<style scoped>\n",
       "    .dataframe tbody tr th:only-of-type {\n",
       "        vertical-align: middle;\n",
       "    }\n",
       "\n",
       "    .dataframe tbody tr th {\n",
       "        vertical-align: top;\n",
       "    }\n",
       "\n",
       "    .dataframe thead th {\n",
       "        text-align: right;\n",
       "    }\n",
       "</style>\n",
       "<table border=\"1\" class=\"dataframe\">\n",
       "  <thead>\n",
       "    <tr style=\"text-align: right;\">\n",
       "      <th></th>\n",
       "      <th>Features</th>\n",
       "      <th>Importance</th>\n",
       "    </tr>\n",
       "  </thead>\n",
       "  <tbody>\n",
       "    <tr>\n",
       "      <th>3</th>\n",
       "      <td>Agency_C2B</td>\n",
       "      <td>[0.8102818022639832]</td>\n",
       "    </tr>\n",
       "    <tr>\n",
       "      <th>1</th>\n",
       "      <td>Commision (in value)</td>\n",
       "      <td>[0.44676746487399616]</td>\n",
       "    </tr>\n",
       "    <tr>\n",
       "      <th>4</th>\n",
       "      <td>Product Name_2 way Comprehensive Plan</td>\n",
       "      <td>[0.42209730936361584]</td>\n",
       "    </tr>\n",
       "    <tr>\n",
       "      <th>0</th>\n",
       "      <td>Net Sales</td>\n",
       "      <td>[0.22182305788248194]</td>\n",
       "    </tr>\n",
       "    <tr>\n",
       "      <th>8</th>\n",
       "      <td>Product Name_Comprehensive Plan</td>\n",
       "      <td>[0.10650261302549408]</td>\n",
       "    </tr>\n",
       "    <tr>\n",
       "      <th>11</th>\n",
       "      <td>Product Name_Single Trip Travel Protect Gold</td>\n",
       "      <td>[0.103966077949586]</td>\n",
       "    </tr>\n",
       "    <tr>\n",
       "      <th>12</th>\n",
       "      <td>Product Name_Single Trip Travel Protect Platinum</td>\n",
       "      <td>[0.08521697385134512]</td>\n",
       "    </tr>\n",
       "    <tr>\n",
       "      <th>9</th>\n",
       "      <td>Product Name_Individual Comprehensive Plan</td>\n",
       "      <td>[0.08344649222248678]</td>\n",
       "    </tr>\n",
       "    <tr>\n",
       "      <th>13</th>\n",
       "      <td>Product Name_Spouse or Parents Comprehensive Plan</td>\n",
       "      <td>[0.056067703873432885]</td>\n",
       "    </tr>\n",
       "    <tr>\n",
       "      <th>10</th>\n",
       "      <td>Product Name_Silver Plan</td>\n",
       "      <td>[0.036948763524774]</td>\n",
       "    </tr>\n",
       "    <tr>\n",
       "      <th>2</th>\n",
       "      <td>Age</td>\n",
       "      <td>[-0.01688599572469591]</td>\n",
       "    </tr>\n",
       "    <tr>\n",
       "      <th>6</th>\n",
       "      <td>Product Name_Annual Travel Protect Gold</td>\n",
       "      <td>[-0.03416231799720915]</td>\n",
       "    </tr>\n",
       "    <tr>\n",
       "      <th>5</th>\n",
       "      <td>Product Name_Annual Silver Plan</td>\n",
       "      <td>[-0.1478806511773837]</td>\n",
       "    </tr>\n",
       "    <tr>\n",
       "      <th>7</th>\n",
       "      <td>Product Name_Annual Travel Protect Platinum</td>\n",
       "      <td>[-0.16737817385278064]</td>\n",
       "    </tr>\n",
       "  </tbody>\n",
       "</table>\n",
       "</div>"
      ],
      "text/plain": [
       "                                             Features              Importance\n",
       "3                                          Agency_C2B    [0.8102818022639832]\n",
       "1                                Commision (in value)   [0.44676746487399616]\n",
       "4               Product Name_2 way Comprehensive Plan   [0.42209730936361584]\n",
       "0                                           Net Sales   [0.22182305788248194]\n",
       "8                     Product Name_Comprehensive Plan   [0.10650261302549408]\n",
       "11       Product Name_Single Trip Travel Protect Gold     [0.103966077949586]\n",
       "12   Product Name_Single Trip Travel Protect Platinum   [0.08521697385134512]\n",
       "9          Product Name_Individual Comprehensive Plan   [0.08344649222248678]\n",
       "13  Product Name_Spouse or Parents Comprehensive Plan  [0.056067703873432885]\n",
       "10                           Product Name_Silver Plan     [0.036948763524774]\n",
       "2                                                 Age  [-0.01688599572469591]\n",
       "6             Product Name_Annual Travel Protect Gold  [-0.03416231799720915]\n",
       "5                     Product Name_Annual Silver Plan   [-0.1478806511773837]\n",
       "7         Product Name_Annual Travel Protect Platinum  [-0.16737817385278064]"
      ]
     },
     "execution_count": 239,
     "metadata": {},
     "output_type": "execute_result"
    }
   ],
   "source": [
    "feature_importance=list(logreg.coef_.T)\n",
    "features=list(cols)\n",
    "f_imp= pd.DataFrame(list(zip(features,feature_importance)), columns =['Features', 'Importance']) \n",
    "f_imp.sort_values(by=\"Importance\",ascending=False)"
   ]
  },
  {
   "cell_type": "code",
   "execution_count": 240,
   "metadata": {},
   "outputs": [
    {
     "data": {
      "text/html": [
       "<div>\n",
       "<style scoped>\n",
       "    .dataframe tbody tr th:only-of-type {\n",
       "        vertical-align: middle;\n",
       "    }\n",
       "\n",
       "    .dataframe tbody tr th {\n",
       "        vertical-align: top;\n",
       "    }\n",
       "\n",
       "    .dataframe thead th {\n",
       "        text-align: right;\n",
       "    }\n",
       "</style>\n",
       "<table border=\"1\" class=\"dataframe\">\n",
       "  <thead>\n",
       "    <tr style=\"text-align: right;\">\n",
       "      <th></th>\n",
       "      <th>ID</th>\n",
       "      <th>Agency</th>\n",
       "      <th>Agency Type</th>\n",
       "      <th>Distribution Channel</th>\n",
       "      <th>Product Name</th>\n",
       "      <th>Duration</th>\n",
       "      <th>Destination</th>\n",
       "      <th>Net Sales</th>\n",
       "      <th>Commision (in value)</th>\n",
       "      <th>Gender</th>\n",
       "      <th>Age</th>\n",
       "    </tr>\n",
       "  </thead>\n",
       "  <tbody>\n",
       "    <tr>\n",
       "      <th>0</th>\n",
       "      <td>25902</td>\n",
       "      <td>CWT</td>\n",
       "      <td>Travel Agency</td>\n",
       "      <td>Online</td>\n",
       "      <td>Rental Vehicle Excess Insurance</td>\n",
       "      <td>58</td>\n",
       "      <td>ICELAND</td>\n",
       "      <td>49.5</td>\n",
       "      <td>29.7</td>\n",
       "      <td>NaN</td>\n",
       "      <td>47</td>\n",
       "    </tr>\n",
       "    <tr>\n",
       "      <th>1</th>\n",
       "      <td>19535</td>\n",
       "      <td>EPX</td>\n",
       "      <td>Travel Agency</td>\n",
       "      <td>Online</td>\n",
       "      <td>2 way Comprehensive Plan</td>\n",
       "      <td>4</td>\n",
       "      <td>SINGAPORE</td>\n",
       "      <td>20.0</td>\n",
       "      <td>0.0</td>\n",
       "      <td>NaN</td>\n",
       "      <td>24</td>\n",
       "    </tr>\n",
       "    <tr>\n",
       "      <th>2</th>\n",
       "      <td>43717</td>\n",
       "      <td>EPX</td>\n",
       "      <td>Travel Agency</td>\n",
       "      <td>Online</td>\n",
       "      <td>2 way Comprehensive Plan</td>\n",
       "      <td>68</td>\n",
       "      <td>VIET NAM</td>\n",
       "      <td>20.0</td>\n",
       "      <td>0.0</td>\n",
       "      <td>NaN</td>\n",
       "      <td>36</td>\n",
       "    </tr>\n",
       "    <tr>\n",
       "      <th>3</th>\n",
       "      <td>48271</td>\n",
       "      <td>EPX</td>\n",
       "      <td>Travel Agency</td>\n",
       "      <td>Online</td>\n",
       "      <td>2 way Comprehensive Plan</td>\n",
       "      <td>41</td>\n",
       "      <td>CHINA</td>\n",
       "      <td>28.0</td>\n",
       "      <td>0.0</td>\n",
       "      <td>NaN</td>\n",
       "      <td>36</td>\n",
       "    </tr>\n",
       "    <tr>\n",
       "      <th>4</th>\n",
       "      <td>52318</td>\n",
       "      <td>EPX</td>\n",
       "      <td>Travel Agency</td>\n",
       "      <td>Online</td>\n",
       "      <td>Cancellation Plan</td>\n",
       "      <td>16</td>\n",
       "      <td>SINGAPORE</td>\n",
       "      <td>11.0</td>\n",
       "      <td>0.0</td>\n",
       "      <td>NaN</td>\n",
       "      <td>36</td>\n",
       "    </tr>\n",
       "  </tbody>\n",
       "</table>\n",
       "</div>"
      ],
      "text/plain": [
       "      ID Agency    Agency Type Distribution Channel  \\\n",
       "0  25902    CWT  Travel Agency               Online   \n",
       "1  19535    EPX  Travel Agency               Online   \n",
       "2  43717    EPX  Travel Agency               Online   \n",
       "3  48271    EPX  Travel Agency               Online   \n",
       "4  52318    EPX  Travel Agency               Online   \n",
       "\n",
       "                      Product Name  Duration Destination  Net Sales  \\\n",
       "0  Rental Vehicle Excess Insurance        58     ICELAND       49.5   \n",
       "1         2 way Comprehensive Plan         4   SINGAPORE       20.0   \n",
       "2         2 way Comprehensive Plan        68    VIET NAM       20.0   \n",
       "3         2 way Comprehensive Plan        41       CHINA       28.0   \n",
       "4                Cancellation Plan        16   SINGAPORE       11.0   \n",
       "\n",
       "   Commision (in value) Gender  Age  \n",
       "0                  29.7    NaN   47  \n",
       "1                   0.0    NaN   24  \n",
       "2                   0.0    NaN   36  \n",
       "3                   0.0    NaN   36  \n",
       "4                   0.0    NaN   36  "
      ]
     },
     "execution_count": 240,
     "metadata": {},
     "output_type": "execute_result"
    }
   ],
   "source": [
    "#Importing Test Dataset\n",
    "test=pd.read_csv(\"C:\\\\Users\\\\Neel\\\\Desktop\\\\GreyAtom Hackathon\\\\test.csv\")\n",
    "test.head()"
   ]
  },
  {
   "cell_type": "code",
   "execution_count": 241,
   "metadata": {},
   "outputs": [],
   "source": [
    "#Seprating ID's required for Final Submission\n",
    "test_id=test[\"ID\"]"
   ]
  },
  {
   "cell_type": "code",
   "execution_count": 242,
   "metadata": {},
   "outputs": [],
   "source": [
    "#Dropping unwanted columns\n",
    "test=test.drop([\"Distribution Channel\",\"Agency Type\",\"ID\"],1)"
   ]
  },
  {
   "cell_type": "code",
   "execution_count": 243,
   "metadata": {},
   "outputs": [],
   "source": [
    "#One-Hot encoding Test set\n",
    "new_test=pd.get_dummies(test)"
   ]
  },
  {
   "cell_type": "code",
   "execution_count": 244,
   "metadata": {},
   "outputs": [],
   "source": [
    "#Intializing test set with same column\n",
    "new_test=new_test[cols]"
   ]
  },
  {
   "cell_type": "code",
   "execution_count": 245,
   "metadata": {},
   "outputs": [
    {
     "data": {
      "text/plain": [
       "(12661, 14)"
      ]
     },
     "execution_count": 245,
     "metadata": {},
     "output_type": "execute_result"
    }
   ],
   "source": [
    "new_test.shape"
   ]
  },
  {
   "cell_type": "code",
   "execution_count": 246,
   "metadata": {},
   "outputs": [],
   "source": [
    "#Final prediction for submission\n",
    "final_predict=logreg_cv.best_estimator_.predict(new_test)"
   ]
  },
  {
   "cell_type": "code",
   "execution_count": 247,
   "metadata": {},
   "outputs": [],
   "source": [
    "#Saving the submission file\n",
    "submit_id=list(test_id)\n",
    "submit_pred=list(final_predict)\n",
    "final_submission =pd.DataFrame(list(zip(submit_id, submit_pred)), columns =['ID', 'Claim'])\n",
    "final_submission.to_csv(\"C:\\\\Users\\\\Neel\\\\Desktop\\\\GreyAtom Hackathon\\\\submission_12.csv\",index=False)"
   ]
  },
  {
   "cell_type": "code",
   "execution_count": 262,
   "metadata": {},
   "outputs": [],
   "source": [
    "le=LabelEncoder()"
   ]
  },
  {
   "cell_type": "code",
   "execution_count": 264,
   "metadata": {},
   "outputs": [],
   "source": [
    "copy_train['Gender']=copy_train['Gender'].fillna(\"Not Present\")"
   ]
  },
  {
   "cell_type": "code",
   "execution_count": 265,
   "metadata": {},
   "outputs": [],
   "source": [
    "def encode(col):\n",
    "    copy_train[col]=le.fit_transform(copy_train[col])"
   ]
  },
  {
   "cell_type": "code",
   "execution_count": 266,
   "metadata": {},
   "outputs": [],
   "source": [
    "encode(\"Agency\")\n",
    "encode(\"Agency Type\")\n",
    "encode(\"Distribution Channel\")\n",
    "encode(\"Product Name\")\n",
    "encode(\"Destination\")\n",
    "encode(\"Gender\")"
   ]
  },
  {
   "cell_type": "code",
   "execution_count": 267,
   "metadata": {},
   "outputs": [],
   "source": [
    "rfc=RandomForestClassifier(random_state=0,oob_score=True)"
   ]
  },
  {
   "cell_type": "code",
   "execution_count": 268,
   "metadata": {},
   "outputs": [],
   "source": [
    "sm=SMOTE(random_state=0)"
   ]
  },
  {
   "cell_type": "code",
   "execution_count": 269,
   "metadata": {},
   "outputs": [],
   "source": [
    "X=copy_train.drop([\"Claim\"],1)\n",
    "y=copy_train[\"Claim\"]"
   ]
  },
  {
   "cell_type": "code",
   "execution_count": 270,
   "metadata": {},
   "outputs": [],
   "source": [
    "X_new,y_new=sm.fit_sample(X,y.ravel())"
   ]
  },
  {
   "cell_type": "code",
   "execution_count": 271,
   "metadata": {},
   "outputs": [],
   "source": [
    "X_train,X_test,y_train,y_test=tts(X_new,y_new,test_size=0.3,random_state=0)"
   ]
  },
  {
   "cell_type": "code",
   "execution_count": 272,
   "metadata": {},
   "outputs": [
    {
     "data": {
      "text/plain": [
       "RandomForestClassifier(bootstrap=True, class_weight=None, criterion='gini',\n",
       "                       max_depth=None, max_features='auto', max_leaf_nodes=None,\n",
       "                       min_impurity_decrease=0.0, min_impurity_split=None,\n",
       "                       min_samples_leaf=1, min_samples_split=2,\n",
       "                       min_weight_fraction_leaf=0.0, n_estimators=10,\n",
       "                       n_jobs=None, oob_score=True, random_state=0, verbose=0,\n",
       "                       warm_start=False)"
      ]
     },
     "execution_count": 272,
     "metadata": {},
     "output_type": "execute_result"
    }
   ],
   "source": [
    "rfc.fit(X_train,y_train)"
   ]
  },
  {
   "cell_type": "code",
   "execution_count": 273,
   "metadata": {},
   "outputs": [],
   "source": [
    "y_pred_rfc=rfc.predict(X_test)"
   ]
  },
  {
   "cell_type": "code",
   "execution_count": 274,
   "metadata": {},
   "outputs": [
    {
     "data": {
      "text/plain": [
       "0.9867170770877944"
      ]
     },
     "execution_count": 274,
     "metadata": {},
     "output_type": "execute_result"
    }
   ],
   "source": [
    "accuracy_score(y_test,y_pred_rfc)"
   ]
  },
  {
   "cell_type": "code",
   "execution_count": 275,
   "metadata": {},
   "outputs": [
    {
     "name": "stdout",
     "output_type": "stream",
     "text": [
      "              precision    recall  f1-score   support\n",
      "\n",
      "           0       0.98      0.99      0.99     14823\n",
      "           1       0.99      0.98      0.99     15065\n",
      "\n",
      "    accuracy                           0.99     29888\n",
      "   macro avg       0.99      0.99      0.99     29888\n",
      "weighted avg       0.99      0.99      0.99     29888\n",
      "\n"
     ]
    }
   ],
   "source": [
    "print(classification_report(y_test,y_pred_rfc))"
   ]
  },
  {
   "cell_type": "code",
   "execution_count": 276,
   "metadata": {},
   "outputs": [],
   "source": [
    "result_cv=cross_val_score(estimator=rfc,X=X_new,y=y_new,cv=5)"
   ]
  },
  {
   "cell_type": "code",
   "execution_count": 277,
   "metadata": {},
   "outputs": [
    {
     "data": {
      "text/plain": [
       "0.9879149278751779"
      ]
     },
     "execution_count": 277,
     "metadata": {},
     "output_type": "execute_result"
    }
   ],
   "source": [
    "result_cv.mean()"
   ]
  },
  {
   "cell_type": "code",
   "execution_count": 278,
   "metadata": {},
   "outputs": [
    {
     "data": {
      "text/plain": [
       "0.012270257161221237"
      ]
     },
     "execution_count": 278,
     "metadata": {},
     "output_type": "execute_result"
    }
   ],
   "source": [
    "result_cv.std()"
   ]
  },
  {
   "cell_type": "code",
   "execution_count": 279,
   "metadata": {},
   "outputs": [
    {
     "data": {
      "text/plain": [
       "0.9867598252363843"
      ]
     },
     "execution_count": 279,
     "metadata": {},
     "output_type": "execute_result"
    }
   ],
   "source": [
    "roc_auc_score(y_test,y_pred_rfc)"
   ]
  },
  {
   "cell_type": "code",
   "execution_count": 280,
   "metadata": {},
   "outputs": [
    {
     "data": {
      "text/plain": [
       "0.975493288975565"
      ]
     },
     "execution_count": 280,
     "metadata": {},
     "output_type": "execute_result"
    }
   ],
   "source": [
    "rfc.oob_score_"
   ]
  },
  {
   "cell_type": "code",
   "execution_count": 281,
   "metadata": {},
   "outputs": [],
   "source": [
    "dt=DecisionTreeClassifier(criterion='entropy')"
   ]
  },
  {
   "cell_type": "code",
   "execution_count": 282,
   "metadata": {},
   "outputs": [
    {
     "data": {
      "text/plain": [
       "DecisionTreeClassifier(class_weight=None, criterion='entropy', max_depth=None,\n",
       "                       max_features=None, max_leaf_nodes=None,\n",
       "                       min_impurity_decrease=0.0, min_impurity_split=None,\n",
       "                       min_samples_leaf=1, min_samples_split=2,\n",
       "                       min_weight_fraction_leaf=0.0, presort=False,\n",
       "                       random_state=None, splitter='best')"
      ]
     },
     "execution_count": 282,
     "metadata": {},
     "output_type": "execute_result"
    }
   ],
   "source": [
    "dt.fit(X_train,y_train)"
   ]
  },
  {
   "cell_type": "code",
   "execution_count": 283,
   "metadata": {},
   "outputs": [],
   "source": [
    "y_pred_dt=dt.predict(X_test)"
   ]
  },
  {
   "cell_type": "code",
   "execution_count": 284,
   "metadata": {},
   "outputs": [
    {
     "data": {
      "text/plain": [
       "0.9799250535331906"
      ]
     },
     "execution_count": 284,
     "metadata": {},
     "output_type": "execute_result"
    }
   ],
   "source": [
    "accuracy_score(y_test,y_pred_dt)"
   ]
  },
  {
   "cell_type": "code",
   "execution_count": 285,
   "metadata": {},
   "outputs": [
    {
     "name": "stdout",
     "output_type": "stream",
     "text": [
      "              precision    recall  f1-score   support\n",
      "\n",
      "           0       0.98      0.98      0.98     14823\n",
      "           1       0.98      0.98      0.98     15065\n",
      "\n",
      "    accuracy                           0.98     29888\n",
      "   macro avg       0.98      0.98      0.98     29888\n",
      "weighted avg       0.98      0.98      0.98     29888\n",
      "\n"
     ]
    }
   ],
   "source": [
    "print(classification_report(y_test,y_pred_dt))"
   ]
  },
  {
   "cell_type": "code",
   "execution_count": 286,
   "metadata": {},
   "outputs": [
    {
     "data": {
      "text/plain": [
       "0.9798879751529381"
      ]
     },
     "execution_count": 286,
     "metadata": {},
     "output_type": "execute_result"
    }
   ],
   "source": [
    "roc_auc_score(y_test,y_pred_dt)"
   ]
  },
  {
   "cell_type": "code",
   "execution_count": null,
   "metadata": {},
   "outputs": [],
   "source": []
  }
 ],
 "metadata": {
  "kernelspec": {
   "display_name": "Python 3",
   "language": "python",
   "name": "python3"
  },
  "language_info": {
   "codemirror_mode": {
    "name": "ipython",
    "version": 3
   },
   "file_extension": ".py",
   "mimetype": "text/x-python",
   "name": "python",
   "nbconvert_exporter": "python",
   "pygments_lexer": "ipython3",
   "version": "3.7.3"
  }
 },
 "nbformat": 4,
 "nbformat_minor": 2
}
